{
 "cells": [
  {
   "cell_type": "code",
   "execution_count": null,
   "metadata": {},
   "outputs": [],
   "source": []
  },
  {
   "cell_type": "code",
   "execution_count": 5,
   "metadata": {},
   "outputs": [],
   "source": [
    "import os\n",
    "import sys\n",
    "import numpy as np\n",
    "import pandas as pd\n",
    "import random\n",
    "\n",
    "from argparse import ArgumentParser\n",
    "import datetime\n",
    "\n",
    "import torch\n",
    "from torch.utils.data import Dataset, DataLoader\n",
    "from torchvision import transforms, utils\n",
    "import torch.backends.cudnn as cudnn\n",
    "\n",
    "from pytvision.transforms import transforms as mtrans\n",
    "from pytvision import visualization as view\n",
    "\n",
    "sys.path.append('../')\n",
    "from torchlib.datasets.factory  import FactoryDataset \n",
    "from torchlib.datasets.datasets import Dataset \n",
    "from torchlib.neuralnet import NeuralNetClassifier\n",
    "from misc import get_transforms_det\n",
    "\n",
    "from sklearn import metrics"
   ]
  },
  {
   "cell_type": "code",
   "execution_count": null,
   "metadata": {},
   "outputs": [],
   "source": []
  },
  {
   "cell_type": "code",
   "execution_count": 7,
   "metadata": {},
   "outputs": [
    {
     "name": "stdout",
     "output_type": "stream",
     "text": [
      "/root/.datasets\n",
      "../out/netruns\n",
      "bu3dfe\n"
     ]
    }
   ],
   "source": [
    "pathname = os.path.expanduser( '~/.datasets' )\n",
    "projectnet='../out/netruns'\n",
    "no_cuda=False\n",
    "seed=1\n",
    "gpu=1\n",
    "batch_size=60\n",
    "workers=10\n",
    "num_input_channels=3\n",
    "\n",
    "print(pathname)\n",
    "print(projectnet)\n",
    "print(name_dataset)"
   ]
  },
  {
   "cell_type": "code",
   "execution_count": 8,
   "metadata": {},
   "outputs": [
    {
     "name": "stdout",
     "output_type": "stream",
     "text": [
      "baseline_preactresnet18_cross_adam_coco_002\n",
      "baseline_preactresnet18_cross_adam_coco_imsize32_003\n",
      "baseline_preactresnet18_cross_adam_coco_imsize32_bu3dfe_fold2_009\n",
      "baseline_preactresnet18_cross_adam_coco_imsize64_bu3dfe_fold1_008\n",
      "baseline_preactresnet18_cross_adam_coco_imsize64x64_bu3dfe_fold1_007\n",
      "baseline_preactresnet18_cross_sgd_coco_001\n",
      "baseline_preactresnet18_cross_sgd_coco_002\n",
      "baseline_preactresnet18_cross_sgd_coco_imsize128_bu3dfe_fold1_006\n",
      "baseline_preactresnet18_cross_sgd_coco_imsize32_004\n",
      "baseline_preactresnet18_cross_sgd_coco_imsize32_bu3dfe_fold2_006\n",
      "baseline_preactresnet18_cross_sgd_coco_imsize32_ferblack_fold1_005\n",
      "baseline_preactresnet18_cross_sgd_coco_imsize64_bu3dfe_fold1_006\n",
      "baseline_preactresnet18_cross_sgd_coco_imsize64x64_bu3dfe_fold1_007\n",
      "baseline_preactresnet18_cross_sgd_ferp_001\n",
      "baseline_preactresnet18_cross_sgd_ferp_002\n",
      "baseline_preactresnet18_cross_sgd_ferp_003\n",
      "baseline_preactresnet18_cross_sgd_ferp_004\n",
      "baseline_preactresnet34_cross_adam_coco_imsize32_bu3dfe_fold2_010\n",
      "baseline_preactresnet34_cross_sgd_coco_imsize32_bu3dfe_fold1_006\n",
      "baseline_preactresnet34_cross_sgd_ferp_005\n",
      "baseline_preactresnet50_cross_sgd_ferp_006\n",
      "baseline_rec_preactresnet18_cross_adam_coco_imsize32_bu3dfe_fold1_011\n",
      "baseline_rec_preactresnet18_cross_adam_coco_imsize32_bu3dfe_fold2_011\n",
      "baseline_rec_preactresnet18_cross_adam_coco_imsize32_ferblack_fold1_012\n",
      "baseline_rec_preactresnet34_cross_adam_coco_imsize32_bu3dfe_fold2_011\n",
      "exp_baseline_preactresnet18_cross_sgd_cifar100_aug_001\n",
      "exp_baseline_preactresnet18_cross_sgd_cifar10_aug_001\n",
      "exp_baseline_preactresnet18_cross_sgd_cifar10_aug_002\n",
      "exp_baseline_preactresnet18_cross_sgd_fashion_aug_001\n",
      "exp_baseline_preactresnet18_cross_sgd_ferp_allaug_002\n",
      "exp_baseline_preactresnet18_cross_sgd_ferp_aug_002\n",
      "exp_baseline_preactresnet18_cross_sgd_stl10_aug_001\n",
      "exp_baseline_preactresnet18_cross_sgd_svhn_aug_001\n",
      "exp_baseline_preactresnet34_cross_sgd_cifar100_aug_001\n",
      "exp_baseline_preactresnet34_cross_sgd_cifar10_aug_001\n",
      "fer_preactresnet18_cross_adam_bu3dfe_002\n",
      "fer_preactresnet18_cross_adam_ck_003\n",
      "fer_preactresnet18_cross_adam_coco_imsize32_bu3dfe_fold2_002\n",
      "fer_preactresnet18_cross_adam_coco_imsize32_bu3dfe_fold3_003\n",
      "fer_preactresnet18_cross_adam_coco_imsize32_ferblack_fold2_004\n",
      "fer_preactresnet18_cross_adam_coco_imsize32_ferblack_fold3_005\n",
      "fer_preactresnet18_cross_adam_coco_imsize64_ferblack_fold1_001\n"
     ]
    }
   ],
   "source": [
    "!ls ../out/netruns/"
   ]
  },
  {
   "cell_type": "code",
   "execution_count": 10,
   "metadata": {},
   "outputs": [
    {
     "name": "stdout",
     "output_type": "stream",
     "text": [
      "../out/netruns/baseline_preactresnet18_cross_sgd_ferp_003\n",
      "../out/netruns/baseline_preactresnet18_cross_sgd_ferp_003/models/model_best.pth.tar\n"
     ]
    }
   ],
   "source": [
    "name = 'baseline_preactresnet18_cross_sgd_ferp_003'\n",
    "project = os.path.join(projectnet, name)\n",
    "model = 'model_best.pth.tar' #'chk000025.pth.tar', model_best\n",
    "pathmodels = os.path.join(project,'models',model)\n",
    "\n",
    "print(project)\n",
    "print(pathmodels)"
   ]
  },
  {
   "cell_type": "markdown",
   "metadata": {},
   "source": [
    "## Load model"
   ]
  },
  {
   "cell_type": "code",
   "execution_count": 11,
   "metadata": {},
   "outputs": [
    {
     "name": "stderr",
     "output_type": "stream",
     "text": [
      "Without the incoming socket you cannot receive events from the server or register event handlers to your Visdom client.\n"
     ]
    },
    {
     "name": "stdout",
     "output_type": "stream",
     "text": [
      "=> loading checkpoint '../out/netruns/baseline_preactresnet18_cross_sgd_ferp_003/models/model_best.pth.tar'\n",
      "=> loaded checkpoint for preactresnet18 arch!\n"
     ]
    }
   ],
   "source": [
    "# neuralnet\n",
    "network = NeuralNetClassifier(\n",
    "    patchproject=project,\n",
    "    nameproject=name,\n",
    "    no_cuda=no_cuda,\n",
    "    seed=seed,\n",
    "    gpu=gpu\n",
    "    )\n",
    "\n",
    "cudnn.benchmark = True\n",
    "\n",
    "# load model\n",
    "if network.load( pathmodels ) is not True:\n",
    "    assert(False)"
   ]
  },
  {
   "cell_type": "code",
   "execution_count": null,
   "metadata": {},
   "outputs": [],
   "source": []
  },
  {
   "cell_type": "code",
   "execution_count": 16,
   "metadata": {},
   "outputs": [
    {
     "name": "stdout",
     "output_type": "stream",
     "text": [
      "Data loader \n",
      "53\n",
      "3137\n"
     ]
    }
   ],
   "source": [
    "name_dataset=FactoryDataset.ferp\n",
    "subset=FactoryDataset.test\n",
    "\n",
    "data = Dataset(\n",
    "    data=FactoryDataset.factory(\n",
    "        pathname=pathname, \n",
    "        name=name_dataset, \n",
    "        subset=subset, \n",
    "        download=True ),\n",
    "    num_channels=num_input_channels,\n",
    "    transform=get_transforms_det(network.size_input)\n",
    "    )\n",
    "\n",
    "dataloader = DataLoader(data, batch_size=batch_size, shuffle=False, num_workers=workers )\n",
    "\n",
    "print('Data loader ')\n",
    "print(len(dataloader))\n",
    "print(len(data))"
   ]
  },
  {
   "cell_type": "code",
   "execution_count": 17,
   "metadata": {},
   "outputs": [
    {
     "name": "stderr",
     "output_type": "stream",
     "text": [
      "100%|██████████| 53/53 [00:02<00:00, 24.70it/s]\n"
     ]
    },
    {
     "name": "stdout",
     "output_type": "stream",
     "text": [
      "dir: ../out/netruns/baseline_preactresnet18_cross_sgd_ferp_003\n",
      "DONE!!!\n"
     ]
    }
   ],
   "source": [
    "Yhat, Y = network.test( dataloader )\n",
    "df = pd.DataFrame( np.concatenate((Yhat, Y), axis=1) )\n",
    "df.to_csv( os.path.join(project , '{}_{}_{}_dp.csv'.format(subset,name,name_dataset)), index=False, encoding='utf-8')       \n",
    "\n",
    "print('dir: {}'.format(project))\n",
    "print('DONE!!!')"
   ]
  },
  {
   "cell_type": "code",
   "execution_count": 18,
   "metadata": {},
   "outputs": [
    {
     "data": {
      "text/html": [
       "<div>\n",
       "<style scoped>\n",
       "    .dataframe tbody tr th:only-of-type {\n",
       "        vertical-align: middle;\n",
       "    }\n",
       "\n",
       "    .dataframe tbody tr th {\n",
       "        vertical-align: top;\n",
       "    }\n",
       "\n",
       "    .dataframe thead th {\n",
       "        text-align: right;\n",
       "    }\n",
       "</style>\n",
       "<table border=\"1\" class=\"dataframe\">\n",
       "  <thead>\n",
       "    <tr style=\"text-align: right;\">\n",
       "      <th></th>\n",
       "      <th>0</th>\n",
       "      <th>1</th>\n",
       "      <th>2</th>\n",
       "      <th>3</th>\n",
       "      <th>4</th>\n",
       "      <th>5</th>\n",
       "      <th>6</th>\n",
       "      <th>7</th>\n",
       "      <th>8</th>\n",
       "    </tr>\n",
       "  </thead>\n",
       "  <tbody>\n",
       "    <tr>\n",
       "      <th>0</th>\n",
       "      <td>4.403306e-02</td>\n",
       "      <td>7.122736e-07</td>\n",
       "      <td>2.512512e-04</td>\n",
       "      <td>8.661420e-06</td>\n",
       "      <td>9.551376e-01</td>\n",
       "      <td>5.072095e-04</td>\n",
       "      <td>2.970490e-07</td>\n",
       "      <td>6.117090e-05</td>\n",
       "      <td>7.0</td>\n",
       "    </tr>\n",
       "    <tr>\n",
       "      <th>1</th>\n",
       "      <td>9.999640e-01</td>\n",
       "      <td>4.507215e-09</td>\n",
       "      <td>5.762818e-08</td>\n",
       "      <td>1.905040e-05</td>\n",
       "      <td>1.663819e-05</td>\n",
       "      <td>1.901115e-08</td>\n",
       "      <td>1.494555e-09</td>\n",
       "      <td>2.562832e-07</td>\n",
       "      <td>0.0</td>\n",
       "    </tr>\n",
       "    <tr>\n",
       "      <th>2</th>\n",
       "      <td>1.549542e-11</td>\n",
       "      <td>1.290776e-09</td>\n",
       "      <td>7.857667e-09</td>\n",
       "      <td>3.945649e-11</td>\n",
       "      <td>9.999994e-01</td>\n",
       "      <td>1.033920e-07</td>\n",
       "      <td>5.353953e-07</td>\n",
       "      <td>2.906394e-11</td>\n",
       "      <td>4.0</td>\n",
       "    </tr>\n",
       "    <tr>\n",
       "      <th>3</th>\n",
       "      <td>9.999655e-01</td>\n",
       "      <td>1.015767e-11</td>\n",
       "      <td>3.441206e-05</td>\n",
       "      <td>1.525222e-08</td>\n",
       "      <td>2.914318e-10</td>\n",
       "      <td>2.702169e-11</td>\n",
       "      <td>2.340845e-10</td>\n",
       "      <td>4.082767e-10</td>\n",
       "      <td>0.0</td>\n",
       "    </tr>\n",
       "    <tr>\n",
       "      <th>4</th>\n",
       "      <td>2.860247e-07</td>\n",
       "      <td>9.999998e-01</td>\n",
       "      <td>9.321006e-12</td>\n",
       "      <td>3.321014e-10</td>\n",
       "      <td>1.764559e-09</td>\n",
       "      <td>3.924936e-10</td>\n",
       "      <td>4.260849e-11</td>\n",
       "      <td>5.824107e-09</td>\n",
       "      <td>1.0</td>\n",
       "    </tr>\n",
       "  </tbody>\n",
       "</table>\n",
       "</div>"
      ],
      "text/plain": [
       "              0             1             2             3             4  \\\n",
       "0  4.403306e-02  7.122736e-07  2.512512e-04  8.661420e-06  9.551376e-01   \n",
       "1  9.999640e-01  4.507215e-09  5.762818e-08  1.905040e-05  1.663819e-05   \n",
       "2  1.549542e-11  1.290776e-09  7.857667e-09  3.945649e-11  9.999994e-01   \n",
       "3  9.999655e-01  1.015767e-11  3.441206e-05  1.525222e-08  2.914318e-10   \n",
       "4  2.860247e-07  9.999998e-01  9.321006e-12  3.321014e-10  1.764559e-09   \n",
       "\n",
       "              5             6             7    8  \n",
       "0  5.072095e-04  2.970490e-07  6.117090e-05  7.0  \n",
       "1  1.901115e-08  1.494555e-09  2.562832e-07  0.0  \n",
       "2  1.033920e-07  5.353953e-07  2.906394e-11  4.0  \n",
       "3  2.702169e-11  2.340845e-10  4.082767e-10  0.0  \n",
       "4  3.924936e-10  4.260849e-11  5.824107e-09  1.0  "
      ]
     },
     "execution_count": 18,
     "metadata": {},
     "output_type": "execute_result"
    }
   ],
   "source": [
    "df = pd.read_csv( os.path.join(project , '{}_{}_{}_dp.csv'.format(subset, name, name_dataset))  )\n",
    "df.head()"
   ]
  },
  {
   "cell_type": "code",
   "execution_count": 19,
   "metadata": {},
   "outputs": [
    {
     "name": "stdout",
     "output_type": "stream",
     "text": [
      "Accuracy : 0.872490\n",
      "Precision : 0.874676\n",
      "Recall : 0.677001\n",
      "F1 score : 0.763247\n",
      "\n"
     ]
    }
   ],
   "source": [
    "result = df.as_matrix()\n",
    "yhat = np.argmax( result[:,:-1], axis=1 )\n",
    "y = result[:,-1]\n",
    "\n",
    "acc = metrics.accuracy_score(y, yhat)\n",
    "precision = metrics.precision_score(y, yhat, average='macro')\n",
    "recall = metrics.recall_score(y, yhat, average='macro')\n",
    "f1_score = 2*precision*recall/(precision+recall)\n",
    "\n",
    "print('Accuracy : %f' % acc)\n",
    "print('Precision : %f' % precision)\n",
    "print('Recall : %f' % recall)\n",
    "print('F1 score : %f' % f1_score)\n",
    "print(\"\")"
   ]
  },
  {
   "cell_type": "code",
   "execution_count": 20,
   "metadata": {},
   "outputs": [
    {
     "name": "stdout",
     "output_type": "stream",
     "text": [
      "             precision    recall  f1-score   support\n",
      "\n",
      "        0.0       0.85      0.92      0.88      1083\n",
      "        1.0       0.96      0.93      0.95       892\n",
      "        2.0       0.87      0.90      0.89       394\n",
      "        3.0       0.77      0.71      0.74       382\n",
      "        4.0       0.85      0.87      0.86       269\n",
      "        5.0       0.88      0.44      0.58        16\n",
      "        6.0       0.83      0.44      0.58        86\n",
      "        7.0       1.00      0.20      0.33        15\n",
      "\n",
      "avg / total       0.87      0.87      0.87      3137\n",
      "\n"
     ]
    }
   ],
   "source": [
    "metric = metrics.classification_report(y, yhat)\n",
    "print(metric)"
   ]
  },
  {
   "cell_type": "code",
   "execution_count": 21,
   "metadata": {},
   "outputs": [
    {
     "name": "stdout",
     "output_type": "stream",
     "text": [
      "[[995  14  11  50  12   0   1   0]\n",
      " [ 29 833  14   9   7   0   0   0]\n",
      " [ 23   6 355   3   4   0   3   0]\n",
      " [ 89  11   0 271   7   0   4   0]\n",
      " [ 25   4   1   3 235   1   0   0]\n",
      " [  1   0   2   0   6   7   0   0]\n",
      " [  8   0  25  12   3   0  38   0]\n",
      " [  6   0   0   3   3   0   0   3]]\n"
     ]
    }
   ],
   "source": [
    "mc = metrics.confusion_matrix(y, yhat)\n",
    "print(mc)"
   ]
  },
  {
   "cell_type": "code",
   "execution_count": null,
   "metadata": {},
   "outputs": [],
   "source": []
  },
  {
   "cell_type": "code",
   "execution_count": 22,
   "metadata": {},
   "outputs": [
    {
     "name": "stdout",
     "output_type": "stream",
     "text": [
      "Normalized confusion matrix\n"
     ]
    },
    {
     "data": {
      "image/png": "[encoded data removed]",
      "text/plain": [
       "<matplotlib.figure.Figure at 0x7fff8295c400>"
      ]
     },
     "metadata": {},
     "output_type": "display_data"
    }
   ],
   "source": [
    "import itertools\n",
    "import matplotlib.pyplot as plt\n",
    "%matplotlib inline\n",
    "\n",
    "def plot_confusion_matrix(cm, classes,\n",
    "                          normalize=True,\n",
    "                          title='Confusion matrix',\n",
    "                          cmap=plt.cm.Blues):\n",
    "    \"\"\"\n",
    "    This function prints and plots the confusion matrix.\n",
    "    Normalization can be applied by setting `normalize=True`.\n",
    "    \"\"\"\n",
    "    if normalize:\n",
    "        cm = cm.astype('float') / cm.sum(axis=1)[:, np.newaxis]\n",
    "        print(\"Normalized confusion matrix\")\n",
    "    else:\n",
    "        print('Confusion matrix, without normalization')\n",
    "\n",
    "    #print(cm)\n",
    "\n",
    "    plt.imshow(cm, interpolation='nearest', cmap=cmap)\n",
    "    plt.title(title)\n",
    "    #plt.colorbar()\n",
    "    tick_marks = np.arange(len(classes))\n",
    "    plt.xticks(tick_marks, classes, rotation=45)\n",
    "    plt.yticks(tick_marks, classes)\n",
    "\n",
    "    fmt = '.2f' if normalize else 'd'\n",
    "    thresh = cm.max() / 2.\n",
    "    for i, j in itertools.product(range(cm.shape[0]), range(cm.shape[1])):\n",
    "        plt.text(j, i, format(cm[i, j], fmt),\n",
    "                 horizontalalignment=\"center\",\n",
    "                 color=\"white\" if cm[i, j] > thresh else \"black\")\n",
    "\n",
    "    plt.tight_layout()\n",
    "    plt.ylabel('True label')\n",
    "    plt.xlabel('Predicted label')\n",
    "\n",
    "\n",
    "plt.figure( figsize=(8,8))\n",
    "plot_confusion_matrix(mc, classes=data.data.classes, title=' ')\n",
    "plt.show()"
   ]
  },
  {
   "cell_type": "code",
   "execution_count": null,
   "metadata": {},
   "outputs": [],
   "source": []
  },
  {
   "cell_type": "code",
   "execution_count": null,
   "metadata": {},
   "outputs": [],
   "source": []
  },
  {
   "cell_type": "code",
   "execution_count": null,
   "metadata": {},
   "outputs": [],
   "source": []
  },
  {
   "cell_type": "code",
   "execution_count": null,
   "metadata": {},
   "outputs": [],
   "source": []
  },
  {
   "cell_type": "code",
   "execution_count": null,
   "metadata": {},
   "outputs": [],
   "source": []
  }
 ],
 "metadata": {
  "kernelspec": {
   "display_name": "Python 3",
   "language": "python",
   "name": "python3"
  },
  "language_info": {
   "codemirror_mode": {
    "name": "ipython",
    "version": 3
   },
   "file_extension": ".py",
   "mimetype": "text/x-python",
   "name": "python",
   "nbconvert_exporter": "python",
   "pygments_lexer": "ipython3",
   "version": "3.6.6"
  }
 },
 "nbformat": 4,
 "nbformat_minor": 2
}
