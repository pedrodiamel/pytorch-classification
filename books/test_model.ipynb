{
 "cells": [
  {
   "cell_type": "code",
   "execution_count": null,
   "metadata": {},
   "outputs": [],
   "source": []
  },
  {
   "cell_type": "code",
   "execution_count": 5,
   "metadata": {},
   "outputs": [],
   "source": [
    "import os\n",
    "import sys\n",
    "import numpy as np\n",
    "import pandas as pd\n",
    "import random\n",
    "\n",
    "from argparse import ArgumentParser\n",
    "import datetime\n",
    "\n",
    "import torch\n",
    "from torch.utils.data import Dataset, DataLoader\n",
    "from torchvision import transforms, utils\n",
    "import torch.backends.cudnn as cudnn\n",
    "\n",
    "from pytvision.transforms import transforms as mtrans\n",
    "from pytvision import visualization as view\n",
    "\n",
    "sys.path.append('../')\n",
    "from torchlib.datasets.factory  import FactoryDataset \n",
    "from torchlib.datasets.datasets import Dataset \n",
    "from torchlib.neuralnet import NeuralNetClassifier\n",
    "from torchlib.datasets.fersynthetic  import SyntheticFaceDataset\n",
    "from misc import get_transforms_det\n",
    "\n",
    "from sklearn import metrics"
   ]
  },
  {
   "cell_type": "code",
   "execution_count": null,
   "metadata": {},
   "outputs": [],
   "source": []
  },
  {
   "cell_type": "code",
   "execution_count": 7,
   "metadata": {},
   "outputs": [
    {
     "name": "stdout",
     "output_type": "stream",
     "text": [
      "/root/.datasets\n",
      "../out/netruns\n",
      "ck\n"
     ]
    }
   ],
   "source": [
    "pathname = os.path.expanduser( '~/.datasets' )\n",
    "projectnet='../out/netruns'\n",
<<<<<<< HEAD
    "name_dataset=FactoryDataset.ck\n",
=======
>>>>>>> 76a5bf177b0770126d5382823de8390fe3521b69
    "no_cuda=False\n",
    "seed=1\n",
    "gpu=1\n",
    "batch_size=60\n",
    "workers=10\n",
    "num_input_channels=3\n",
    "\n",
    "print(pathname)\n",
    "print(projectnet)\n",
    "print(name_dataset)"
   ]
  },
  {
   "cell_type": "code",
<<<<<<< HEAD
   "execution_count": 16,
=======
   "execution_count": 8,
>>>>>>> 76a5bf177b0770126d5382823de8390fe3521b69
   "metadata": {},
   "outputs": [
    {
     "name": "stdout",
     "output_type": "stream",
     "text": [
      "baseline_preactresnet18_cross_adam_coco_002\n",
<<<<<<< HEAD
      "baseline_preactresnet18_cross_sgd_coco_001\n",
      "fer_preactresnet18_cross_adam_coco_ferblack_fold02_001\n",
      "fer_preactresnet18_cross_adam_coco_ferblack_fold03_002\n"
=======
      "baseline_preactresnet18_cross_adam_coco_imsize32_003\n",
      "baseline_preactresnet18_cross_adam_coco_imsize32_bu3dfe_fold2_009\n",
      "baseline_preactresnet18_cross_adam_coco_imsize64_bu3dfe_fold1_008\n",
      "baseline_preactresnet18_cross_adam_coco_imsize64x64_bu3dfe_fold1_007\n",
      "baseline_preactresnet18_cross_sgd_coco_001\n",
      "baseline_preactresnet18_cross_sgd_coco_002\n",
      "baseline_preactresnet18_cross_sgd_coco_imsize128_bu3dfe_fold1_006\n",
      "baseline_preactresnet18_cross_sgd_coco_imsize32_004\n",
      "baseline_preactresnet18_cross_sgd_coco_imsize32_bu3dfe_fold2_006\n",
      "baseline_preactresnet18_cross_sgd_coco_imsize32_ferblack_fold1_005\n",
      "baseline_preactresnet18_cross_sgd_coco_imsize64_bu3dfe_fold1_006\n",
      "baseline_preactresnet18_cross_sgd_coco_imsize64x64_bu3dfe_fold1_007\n",
      "baseline_preactresnet18_cross_sgd_ferp_001\n",
      "baseline_preactresnet18_cross_sgd_ferp_002\n",
      "baseline_preactresnet18_cross_sgd_ferp_003\n",
      "baseline_preactresnet18_cross_sgd_ferp_004\n",
      "baseline_preactresnet34_cross_adam_coco_imsize32_bu3dfe_fold2_010\n",
      "baseline_preactresnet34_cross_sgd_coco_imsize32_bu3dfe_fold1_006\n",
      "baseline_preactresnet34_cross_sgd_ferp_005\n",
      "baseline_preactresnet50_cross_sgd_ferp_006\n",
      "baseline_rec_preactresnet18_cross_adam_coco_imsize32_bu3dfe_fold1_011\n",
      "baseline_rec_preactresnet18_cross_adam_coco_imsize32_bu3dfe_fold2_011\n",
      "baseline_rec_preactresnet18_cross_adam_coco_imsize32_ferblack_fold1_012\n",
      "baseline_rec_preactresnet34_cross_adam_coco_imsize32_bu3dfe_fold2_011\n",
      "exp_baseline_preactresnet18_cross_sgd_cifar100_aug_001\n",
      "exp_baseline_preactresnet18_cross_sgd_cifar10_aug_001\n",
      "exp_baseline_preactresnet18_cross_sgd_cifar10_aug_002\n",
      "exp_baseline_preactresnet18_cross_sgd_fashion_aug_001\n",
      "exp_baseline_preactresnet18_cross_sgd_ferp_allaug_002\n",
      "exp_baseline_preactresnet18_cross_sgd_ferp_aug_002\n",
      "exp_baseline_preactresnet18_cross_sgd_stl10_aug_001\n",
      "exp_baseline_preactresnet18_cross_sgd_svhn_aug_001\n",
      "exp_baseline_preactresnet34_cross_sgd_cifar100_aug_001\n",
      "exp_baseline_preactresnet34_cross_sgd_cifar10_aug_001\n",
      "fer_preactresnet18_cross_adam_bu3dfe_002\n",
      "fer_preactresnet18_cross_adam_ck_003\n",
      "fer_preactresnet18_cross_adam_coco_imsize32_bu3dfe_fold2_002\n",
      "fer_preactresnet18_cross_adam_coco_imsize32_bu3dfe_fold3_003\n",
      "fer_preactresnet18_cross_adam_coco_imsize32_ferblack_fold2_004\n",
      "fer_preactresnet18_cross_adam_coco_imsize32_ferblack_fold3_005\n",
      "fer_preactresnet18_cross_adam_coco_imsize64_ferblack_fold1_001\n"
>>>>>>> 76a5bf177b0770126d5382823de8390fe3521b69
     ]
    }
   ],
   "source": [
    "!ls ../out/netruns/"
   ]
  },
  {
   "cell_type": "code",
<<<<<<< HEAD
   "execution_count": 17,
=======
   "execution_count": 10,
>>>>>>> 76a5bf177b0770126d5382823de8390fe3521b69
   "metadata": {},
   "outputs": [
    {
     "name": "stdout",
     "output_type": "stream",
     "text": [
<<<<<<< HEAD
      "../out/netruns/fer_preactresnet18_cross_adam_coco_ferblack_fold02_001\n",
      "../out/netruns/fer_preactresnet18_cross_adam_coco_ferblack_fold02_001/models/model_best.pth.tar\n"
=======
      "../out/netruns/baseline_preactresnet18_cross_sgd_ferp_003\n",
      "../out/netruns/baseline_preactresnet18_cross_sgd_ferp_003/models/model_best.pth.tar\n"
>>>>>>> 76a5bf177b0770126d5382823de8390fe3521b69
     ]
    }
   ],
   "source": [
<<<<<<< HEAD
    "name = 'fer_preactresnet18_cross_adam_coco_ferblack_fold02_001'\n",
=======
    "name = 'baseline_preactresnet18_cross_sgd_ferp_003'\n",
>>>>>>> 76a5bf177b0770126d5382823de8390fe3521b69
    "project = os.path.join(projectnet, name)\n",
    "model = 'model_best.pth.tar' #'chk000025.pth.tar', model_best\n",
    "pathmodels = os.path.join(project,'models',model)\n",
    "\n",
    "print(project)\n",
    "print(pathmodels)"
   ]
  },
  {
   "cell_type": "markdown",
   "metadata": {},
   "source": [
    "## Load model"
   ]
  },
  {
   "cell_type": "code",
<<<<<<< HEAD
   "execution_count": 18,
=======
   "execution_count": 11,
>>>>>>> 76a5bf177b0770126d5382823de8390fe3521b69
   "metadata": {},
   "outputs": [
    {
     "name": "stderr",
     "output_type": "stream",
     "text": [
      "Without the incoming socket you cannot receive events from the server or register event handlers to your Visdom client.\n"
     ]
    },
    {
     "name": "stdout",
     "output_type": "stream",
     "text": [
<<<<<<< HEAD
      "=> loading checkpoint '../out/netruns/fer_preactresnet18_cross_adam_coco_ferblack_fold02_001/models/model_best.pth.tar'\n",
=======
      "=> loading checkpoint '../out/netruns/baseline_preactresnet18_cross_sgd_ferp_003/models/model_best.pth.tar'\n",
>>>>>>> 76a5bf177b0770126d5382823de8390fe3521b69
      "=> loaded checkpoint for preactresnet18 arch!\n"
     ]
    }
   ],
   "source": [
    "# neuralnet\n",
    "network = NeuralNetClassifier(\n",
    "    patchproject=project,\n",
    "    nameproject=name,\n",
    "    no_cuda=no_cuda,\n",
    "    seed=seed,\n",
    "    gpu=gpu\n",
    "    )\n",
    "\n",
    "cudnn.benchmark = True\n",
    "\n",
    "# load model\n",
    "if network.load( pathmodels ) is not True:\n",
    "    assert(False)"
   ]
  },
  {
   "cell_type": "code",
   "execution_count": null,
   "metadata": {},
   "outputs": [],
   "source": []
  },
  {
   "cell_type": "code",
<<<<<<< HEAD
   "execution_count": 28,
=======
   "execution_count": 16,
>>>>>>> 76a5bf177b0770126d5382823de8390fe3521b69
   "metadata": {},
   "outputs": [
    {
     "name": "stdout",
     "output_type": "stream",
     "text": [
      "Data loader \n",
<<<<<<< HEAD
      "2\n",
      "80\n"
=======
      "53\n",
      "3137\n"
>>>>>>> 76a5bf177b0770126d5382823de8390fe3521b69
     ]
    }
   ],
   "source": [
<<<<<<< HEAD
    "\n",
    "name_dataset=FactoryDataset.ck\n",
    "subset=FactoryDataset.validation\n",
=======
    "name_dataset=FactoryDataset.ferp\n",
    "subset=FactoryDataset.test\n",
>>>>>>> 76a5bf177b0770126d5382823de8390fe3521b69
    "\n",
    "data = Dataset(\n",
    "    data=FactoryDataset.factory(\n",
    "        pathname=pathname, \n",
    "        name=name_dataset, \n",
    "        subset=subset, \n",
    "        download=True ),\n",
    "    num_channels=num_input_channels,\n",
    "    transform=get_transforms_det(network.size_input)\n",
    "    )\n",
    "\n",
    "# data = SyntheticFaceDataset(\n",
    "#     data=FactoryDataset.factory(\n",
    "#         pathname=pathname, \n",
    "#         name=name_dataset, \n",
    "#         subset=subset, \n",
    "#         download=True \n",
    "#         ),\n",
    "#     pathnameback='~/.datasets/coco', \n",
    "#     generate='image_and_label',\n",
    "#     ext='jpg',\n",
    "#     count=2000,\n",
    "#     num_channels=3,\n",
    "#     iluminate=True, angle=45, translation=0.3, warp=0.2, factor=0.2,\n",
    "#     #iluminate=True, angle=45, translation=0.1, warp=0.0, factor=0.0,\n",
    "#     transform=get_transforms_det(network.size_input)\n",
    "#     )\n",
    "\n",
    "\n",
    "dataloader = DataLoader(data, batch_size=batch_size, shuffle=False, num_workers=workers )\n",
    "\n",
    "print('Data loader ')\n",
    "print(len(dataloader))\n",
    "print(len(data))"
   ]
  },
  {
   "cell_type": "code",
<<<<<<< HEAD
   "execution_count": 29,
=======
   "execution_count": 17,
>>>>>>> 76a5bf177b0770126d5382823de8390fe3521b69
   "metadata": {},
   "outputs": [
    {
     "name": "stderr",
     "output_type": "stream",
     "text": [
<<<<<<< HEAD
      "100%|██████████| 2/2 [00:00<00:00,  2.08it/s]"
=======
      "100%|██████████| 53/53 [00:02<00:00, 24.70it/s]\n"
>>>>>>> 76a5bf177b0770126d5382823de8390fe3521b69
     ]
    },
    {
     "name": "stdout",
     "output_type": "stream",
     "text": [
<<<<<<< HEAD
      "dir: ../out/netruns/fer_preactresnet18_cross_adam_coco_ferblack_fold02_001\n",
=======
      "dir: ../out/netruns/baseline_preactresnet18_cross_sgd_ferp_003\n",
>>>>>>> 76a5bf177b0770126d5382823de8390fe3521b69
      "DONE!!!\n"
     ]
    }
   ],
   "source": [
    "Yhat, Y = network.test( dataloader )\n",
    "df = pd.DataFrame( np.concatenate((Yhat, Y), axis=1) )\n",
    "df.to_csv( os.path.join(project , '{}_{}_{}_dp.csv'.format(subset,name,name_dataset)), index=False, encoding='utf-8')       \n",
    "\n",
    "print('dir: {}'.format(project))\n",
    "print('DONE!!!')"
   ]
  },
  {
   "cell_type": "code",
<<<<<<< HEAD
   "execution_count": 30,
=======
   "execution_count": 18,
>>>>>>> 76a5bf177b0770126d5382823de8390fe3521b69
   "metadata": {},
   "outputs": [
    {
     "data": {
      "text/html": [
       "<div>\n",
       "<style scoped>\n",
       "    .dataframe tbody tr th:only-of-type {\n",
       "        vertical-align: middle;\n",
       "    }\n",
       "\n",
       "    .dataframe tbody tr th {\n",
       "        vertical-align: top;\n",
       "    }\n",
       "\n",
       "    .dataframe thead th {\n",
       "        text-align: right;\n",
       "    }\n",
       "</style>\n",
       "<table border=\"1\" class=\"dataframe\">\n",
       "  <thead>\n",
       "    <tr style=\"text-align: right;\">\n",
       "      <th></th>\n",
       "      <th>0</th>\n",
       "      <th>1</th>\n",
       "      <th>2</th>\n",
       "      <th>3</th>\n",
       "      <th>4</th>\n",
       "      <th>5</th>\n",
       "      <th>6</th>\n",
       "      <th>7</th>\n",
       "      <th>8</th>\n",
       "    </tr>\n",
       "  </thead>\n",
       "  <tbody>\n",
       "    <tr>\n",
       "      <th>0</th>\n",
<<<<<<< HEAD
       "      <td>3.425986e-20</td>\n",
       "      <td>2.048909e-16</td>\n",
       "      <td>5.028518e-12</td>\n",
       "      <td>1.188663e-14</td>\n",
       "      <td>7.626599e-13</td>\n",
       "      <td>1.000000e+00</td>\n",
       "      <td>1.345523e-12</td>\n",
       "      <td>1.488721e-18</td>\n",
       "      <td>5.0</td>\n",
       "    </tr>\n",
       "    <tr>\n",
       "      <th>1</th>\n",
       "      <td>1.609080e-09</td>\n",
       "      <td>1.336522e-11</td>\n",
       "      <td>9.999955e-01</td>\n",
       "      <td>1.622382e-11</td>\n",
       "      <td>2.007445e-11</td>\n",
       "      <td>1.365098e-13</td>\n",
       "      <td>4.350618e-06</td>\n",
       "      <td>1.883961e-07</td>\n",
       "      <td>2.0</td>\n",
       "    </tr>\n",
       "    <tr>\n",
       "      <th>2</th>\n",
       "      <td>3.177458e-07</td>\n",
       "      <td>5.187302e-15</td>\n",
       "      <td>3.496536e-10</td>\n",
       "      <td>1.819846e-04</td>\n",
       "      <td>9.998171e-01</td>\n",
       "      <td>2.783783e-07</td>\n",
       "      <td>9.747173e-12</td>\n",
       "      <td>3.267263e-07</td>\n",
=======
       "      <td>4.403306e-02</td>\n",
       "      <td>7.122736e-07</td>\n",
       "      <td>2.512512e-04</td>\n",
       "      <td>8.661420e-06</td>\n",
       "      <td>9.551376e-01</td>\n",
       "      <td>5.072095e-04</td>\n",
       "      <td>2.970490e-07</td>\n",
       "      <td>6.117090e-05</td>\n",
       "      <td>7.0</td>\n",
       "    </tr>\n",
       "    <tr>\n",
       "      <th>1</th>\n",
       "      <td>9.999640e-01</td>\n",
       "      <td>4.507215e-09</td>\n",
       "      <td>5.762818e-08</td>\n",
       "      <td>1.905040e-05</td>\n",
       "      <td>1.663819e-05</td>\n",
       "      <td>1.901115e-08</td>\n",
       "      <td>1.494555e-09</td>\n",
       "      <td>2.562832e-07</td>\n",
       "      <td>0.0</td>\n",
       "    </tr>\n",
       "    <tr>\n",
       "      <th>2</th>\n",
       "      <td>1.549542e-11</td>\n",
       "      <td>1.290776e-09</td>\n",
       "      <td>7.857667e-09</td>\n",
       "      <td>3.945649e-11</td>\n",
       "      <td>9.999994e-01</td>\n",
       "      <td>1.033920e-07</td>\n",
       "      <td>5.353953e-07</td>\n",
       "      <td>2.906394e-11</td>\n",
>>>>>>> 76a5bf177b0770126d5382823de8390fe3521b69
       "      <td>4.0</td>\n",
       "    </tr>\n",
       "    <tr>\n",
       "      <th>3</th>\n",
<<<<<<< HEAD
       "      <td>1.428429e-14</td>\n",
       "      <td>1.000000e+00</td>\n",
       "      <td>5.884997e-10</td>\n",
       "      <td>2.273458e-08</td>\n",
       "      <td>1.569813e-11</td>\n",
       "      <td>1.477985e-08</td>\n",
       "      <td>1.163693e-10</td>\n",
       "      <td>7.555401e-11</td>\n",
       "      <td>1.0</td>\n",
       "    </tr>\n",
       "    <tr>\n",
       "      <th>4</th>\n",
       "      <td>2.479002e-15</td>\n",
       "      <td>3.216799e-18</td>\n",
       "      <td>1.000000e+00</td>\n",
       "      <td>1.290403e-13</td>\n",
       "      <td>8.761171e-12</td>\n",
       "      <td>5.459635e-19</td>\n",
       "      <td>4.287987e-09</td>\n",
       "      <td>7.249480e-16</td>\n",
       "      <td>2.0</td>\n",
=======
       "      <td>9.999655e-01</td>\n",
       "      <td>1.015767e-11</td>\n",
       "      <td>3.441206e-05</td>\n",
       "      <td>1.525222e-08</td>\n",
       "      <td>2.914318e-10</td>\n",
       "      <td>2.702169e-11</td>\n",
       "      <td>2.340845e-10</td>\n",
       "      <td>4.082767e-10</td>\n",
       "      <td>0.0</td>\n",
       "    </tr>\n",
       "    <tr>\n",
       "      <th>4</th>\n",
       "      <td>2.860247e-07</td>\n",
       "      <td>9.999998e-01</td>\n",
       "      <td>9.321006e-12</td>\n",
       "      <td>3.321014e-10</td>\n",
       "      <td>1.764559e-09</td>\n",
       "      <td>3.924936e-10</td>\n",
       "      <td>4.260849e-11</td>\n",
       "      <td>5.824107e-09</td>\n",
       "      <td>1.0</td>\n",
>>>>>>> 76a5bf177b0770126d5382823de8390fe3521b69
       "    </tr>\n",
       "  </tbody>\n",
       "</table>\n",
       "</div>"
      ],
      "text/plain": [
       "              0             1             2             3             4  \\\n",
<<<<<<< HEAD
       "0  3.425986e-20  2.048909e-16  5.028518e-12  1.188663e-14  7.626599e-13   \n",
       "1  1.609080e-09  1.336522e-11  9.999955e-01  1.622382e-11  2.007445e-11   \n",
       "2  3.177458e-07  5.187302e-15  3.496536e-10  1.819846e-04  9.998171e-01   \n",
       "3  1.428429e-14  1.000000e+00  5.884997e-10  2.273458e-08  1.569813e-11   \n",
       "4  2.479002e-15  3.216799e-18  1.000000e+00  1.290403e-13  8.761171e-12   \n",
       "\n",
       "              5             6             7    8  \n",
       "0  1.000000e+00  1.345523e-12  1.488721e-18  5.0  \n",
       "1  1.365098e-13  4.350618e-06  1.883961e-07  2.0  \n",
       "2  2.783783e-07  9.747173e-12  3.267263e-07  4.0  \n",
       "3  1.477985e-08  1.163693e-10  7.555401e-11  1.0  \n",
       "4  5.459635e-19  4.287987e-09  7.249480e-16  2.0  "
      ]
     },
     "execution_count": 30,
=======
       "0  4.403306e-02  7.122736e-07  2.512512e-04  8.661420e-06  9.551376e-01   \n",
       "1  9.999640e-01  4.507215e-09  5.762818e-08  1.905040e-05  1.663819e-05   \n",
       "2  1.549542e-11  1.290776e-09  7.857667e-09  3.945649e-11  9.999994e-01   \n",
       "3  9.999655e-01  1.015767e-11  3.441206e-05  1.525222e-08  2.914318e-10   \n",
       "4  2.860247e-07  9.999998e-01  9.321006e-12  3.321014e-10  1.764559e-09   \n",
       "\n",
       "              5             6             7    8  \n",
       "0  5.072095e-04  2.970490e-07  6.117090e-05  7.0  \n",
       "1  1.901115e-08  1.494555e-09  2.562832e-07  0.0  \n",
       "2  1.033920e-07  5.353953e-07  2.906394e-11  4.0  \n",
       "3  2.702169e-11  2.340845e-10  4.082767e-10  0.0  \n",
       "4  3.924936e-10  4.260849e-11  5.824107e-09  1.0  "
      ]
     },
     "execution_count": 18,
>>>>>>> 76a5bf177b0770126d5382823de8390fe3521b69
     "metadata": {},
     "output_type": "execute_result"
    }
   ],
   "source": [
    "df = pd.read_csv( os.path.join(project , '{}_{}_{}_dp.csv'.format(subset, name, name_dataset))  )\n",
    "df.head()"
   ]
  },
  {
   "cell_type": "code",
<<<<<<< HEAD
   "execution_count": 31,
=======
   "execution_count": 19,
>>>>>>> 76a5bf177b0770126d5382823de8390fe3521b69
   "metadata": {},
   "outputs": [
    {
     "name": "stdout",
     "output_type": "stream",
     "text": [
<<<<<<< HEAD
      "Accuracy : 0.900000\n",
      "Precision : 0.905772\n",
      "Recall : 0.910620\n",
      "F1 score : 0.908190\n",
=======
      "Accuracy : 0.872490\n",
      "Precision : 0.874676\n",
      "Recall : 0.677001\n",
      "F1 score : 0.763247\n",
>>>>>>> 76a5bf177b0770126d5382823de8390fe3521b69
      "\n"
     ]
    }
   ],
   "source": [
    "result = df.as_matrix()\n",
    "yhat = np.argmax( result[:,:-1], axis=1 )\n",
    "y = result[:,-1]\n",
    "\n",
    "acc = metrics.accuracy_score(y, yhat)\n",
    "precision = metrics.precision_score(y, yhat, average='macro')\n",
    "recall = metrics.recall_score(y, yhat, average='macro')\n",
    "f1_score = 2*precision*recall/(precision+recall)\n",
    "\n",
    "print('Accuracy : %f' % acc)\n",
    "print('Precision : %f' % precision)\n",
    "print('Recall : %f' % recall)\n",
    "print('F1 score : %f' % f1_score)\n",
    "print(\"\")"
   ]
  },
  {
   "cell_type": "code",
<<<<<<< HEAD
   "execution_count": null,
   "metadata": {},
   "outputs": [],
   "source": [
    "\n",
    "\n",
    "\n"
   ]
  },
  {
   "cell_type": "code",
   "execution_count": 10,
=======
   "execution_count": 20,
>>>>>>> 76a5bf177b0770126d5382823de8390fe3521b69
   "metadata": {},
   "outputs": [
    {
     "name": "stdout",
     "output_type": "stream",
     "text": [
      "             precision    recall  f1-score   support\n",
      "\n",
      "        0.0       1.00      0.74      0.85        19\n",
      "        1.0       1.00      1.00      1.00        13\n",
      "        2.0       1.00      0.94      0.97        16\n",
      "        3.0       1.00      0.80      0.89         5\n",
      "        4.0       0.72      1.00      0.84        13\n",
      "        5.0       0.82      0.90      0.86        10\n",
      "        6.0       0.80      1.00      0.89         4\n",
      "\n",
      "avg / total       0.92      0.90      0.90        80\n",
      "\n"
     ]
    }
   ],
   "source": [
    "metric = metrics.classification_report(y, yhat)\n",
    "print(metric)"
   ]
  },
  {
   "cell_type": "code",
<<<<<<< HEAD
   "execution_count": 11,
=======
   "execution_count": 21,
>>>>>>> 76a5bf177b0770126d5382823de8390fe3521b69
   "metadata": {},
   "outputs": [
    {
     "name": "stdout",
     "output_type": "stream",
     "text": [
      "[[14  0  0  0  3  2  0]\n",
      " [ 0 13  0  0  0  0  0]\n",
      " [ 0  0 15  0  0  0  1]\n",
      " [ 0  0  0  4  1  0  0]\n",
      " [ 0  0  0  0 13  0  0]\n",
      " [ 0  0  0  0  1  9  0]\n",
      " [ 0  0  0  0  0  0  4]]\n"
     ]
    }
   ],
   "source": [
    "mc = metrics.confusion_matrix(y, yhat)\n",
    "print(mc)"
   ]
  },
  {
   "cell_type": "code",
   "execution_count": null,
   "metadata": {},
   "outputs": [],
   "source": []
  },
  {
   "cell_type": "code",
<<<<<<< HEAD
   "execution_count": 12,
=======
   "execution_count": 22,
>>>>>>> 76a5bf177b0770126d5382823de8390fe3521b69
   "metadata": {},
   "outputs": [
    {
     "name": "stdout",
     "output_type": "stream",
     "text": [
      "Normalized confusion matrix\n"
     ]
    },
    {
     "data": {
      "image/png": "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\n",
      "text/plain": [
<<<<<<< HEAD
       "<Figure size 576x576 with 1 Axes>"
=======
       "<matplotlib.figure.Figure at 0x7fff8295c400>"
>>>>>>> 76a5bf177b0770126d5382823de8390fe3521b69
      ]
     },
     "metadata": {},
     "output_type": "display_data"
    }
   ],
   "source": [
    "import itertools\n",
    "import matplotlib.pyplot as plt\n",
    "%matplotlib inline\n",
    "\n",
    "def plot_confusion_matrix(cm, classes,\n",
    "                          normalize=True,\n",
    "                          title='Confusion matrix',\n",
    "                          cmap=plt.cm.Blues):\n",
    "    \"\"\"\n",
    "    This function prints and plots the confusion matrix.\n",
    "    Normalization can be applied by setting `normalize=True`.\n",
    "    \"\"\"\n",
    "    if normalize:\n",
    "        cm = cm.astype('float') / cm.sum(axis=1)[:, np.newaxis]\n",
    "        print(\"Normalized confusion matrix\")\n",
    "    else:\n",
    "        print('Confusion matrix, without normalization')\n",
    "\n",
    "    #print(cm)\n",
    "\n",
    "    plt.imshow(cm, interpolation='nearest', cmap=cmap)\n",
    "    plt.title(title)\n",
    "    #plt.colorbar()\n",
    "    tick_marks = np.arange(len(classes))\n",
    "    plt.xticks(tick_marks, classes, rotation=45)\n",
    "    plt.yticks(tick_marks, classes)\n",
    "\n",
    "    fmt = '.2f' if normalize else 'd'\n",
    "    thresh = cm.max() / 2.\n",
    "    for i, j in itertools.product(range(cm.shape[0]), range(cm.shape[1])):\n",
    "        plt.text(j, i, format(cm[i, j], fmt),\n",
    "                 horizontalalignment=\"center\",\n",
    "                 color=\"white\" if cm[i, j] > thresh else \"black\")\n",
    "\n",
    "    plt.tight_layout()\n",
    "    plt.ylabel('True label')\n",
    "    plt.xlabel('Predicted label')\n",
    "\n",
    "\n",
    "plt.figure( figsize=(8,8))\n",
    "plot_confusion_matrix(mc, classes=data.data.classes, title=' ')\n",
    "plt.show()"
   ]
  },
  {
   "cell_type": "code",
   "execution_count": null,
   "metadata": {},
   "outputs": [],
   "source": []
  },
  {
   "cell_type": "code",
   "execution_count": null,
   "metadata": {},
   "outputs": [],
   "source": []
  },
  {
   "cell_type": "code",
   "execution_count": null,
   "metadata": {},
   "outputs": [],
   "source": []
  },
  {
   "cell_type": "code",
   "execution_count": null,
   "metadata": {},
   "outputs": [],
   "source": []
  },
  {
   "cell_type": "code",
   "execution_count": null,
   "metadata": {},
   "outputs": [],
   "source": []
  }
 ],
 "metadata": {
  "kernelspec": {
   "display_name": "Python 3",
   "language": "python",
   "name": "python3"
  },
  "language_info": {
   "codemirror_mode": {
    "name": "ipython",
    "version": 3
   },
   "file_extension": ".py",
   "mimetype": "text/x-python",
   "name": "python",
   "nbconvert_exporter": "python",
   "pygments_lexer": "ipython3",
   "version": "3.6.6"
  }
 },
 "nbformat": 4,
 "nbformat_minor": 2
}
