{
 "cells": [
  {
   "cell_type": "code",
   "execution_count": null,
   "metadata": {},
   "outputs": [],
   "source": []
  },
  {
   "cell_type": "code",
   "execution_count": 1,
   "metadata": {},
   "outputs": [],
   "source": [
    "import os\n",
    "import sys\n",
    "import numpy as np\n",
    "import pandas as pd\n",
    "import random\n",
    "\n",
    "from argparse import ArgumentParser\n",
    "import datetime\n",
    "\n",
    "import torch\n",
    "from torch.utils.data import Dataset, DataLoader\n",
    "from torchvision import transforms, utils\n",
    "import torch.backends.cudnn as cudnn\n",
    "\n",
    "from pytvision.datasets.factory import FactoryDataset \n",
    "from pytvision.datasets.datasets import Dataset\n",
    "from pytvision.transforms import transforms as mtrans\n",
    "from pytvision import visualization as view\n",
    "\n",
    "sys.path.append('../')\n",
    "from torchlib.neuralnet import NeuralNetClassifier\n",
    "from misc import get_transforms_det\n",
    "\n",
    "from sklearn import metrics"
   ]
  },
  {
   "cell_type": "code",
   "execution_count": null,
   "metadata": {},
   "outputs": [],
   "source": []
  },
  {
   "cell_type": "code",
   "execution_count": 2,
   "metadata": {},
   "outputs": [
    {
     "name": "stdout",
     "output_type": "stream",
     "text": [
      "/home/fernandez/.datasets\n",
      "../out/netruns\n",
      "affectnet\n"
     ]
    }
   ],
   "source": [
    "pathname = os.path.expanduser( '~/.datasets' )\n",
    "projectnet='../out/netruns'\n",
    "name_dataset=FactoryDataset.affect\n",
    "no_cuda=False\n",
    "seed=1\n",
    "gpu=1\n",
    "batch_size=60\n",
    "workers=10\n",
    "num_input_channels=3\n",
    "\n",
    "print(pathname)\n",
    "print(projectnet)\n",
    "print(name_dataset)"
   ]
  },
  {
   "cell_type": "code",
   "execution_count": 3,
   "metadata": {},
   "outputs": [
    {
     "name": "stdout",
     "output_type": "stream",
     "text": [
      "baseline_preactresnet18_cross_adam_affectnet_imsize32_gray_weights_000\n",
      "baseline_preactresnet18_cross_sgd_affect_000\n",
      "baseline_preactresnet18_cross_sgd_affectnet_000\n",
      "baseline_preactresnet18_cross_sgd_affectnet_weights_000\n",
      "ferbase_preactresnet18_cross_adam_bu3dfe_fold0_000\n",
      "ferbase_preactresnet18_cross_adam_real_bu3dfe_fold0_000\n",
      "ferbase_preactresnet18_cross_sgd_real_bu3dfe_fold0_000\n"
     ]
    }
   ],
   "source": [
    "!ls ../out/netruns/"
   ]
  },
  {
   "cell_type": "code",
   "execution_count": 4,
   "metadata": {},
   "outputs": [
    {
     "name": "stdout",
     "output_type": "stream",
     "text": [
      "../out/netruns/baseline_preactresnet18_cross_adam_affectnet_imsize32_gray_weights_000\n",
      "../out/netruns/baseline_preactresnet18_cross_adam_affectnet_imsize32_gray_weights_000/models/model_best.pth.tar\n"
     ]
    }
   ],
   "source": [
    "name = 'baseline_preactresnet18_cross_adam_affectnet_imsize32_gray_weights_000'\n",
    "project = os.path.join(projectnet, name)\n",
    "model = 'model_best.pth.tar' #'chk000025.pth.tar', model_best\n",
    "pathmodels = os.path.join(project,'models',model)\n",
    "\n",
    "print(project)\n",
    "print(pathmodels)"
   ]
  },
  {
   "cell_type": "markdown",
   "metadata": {},
   "source": [
    "## Load model"
   ]
  },
  {
   "cell_type": "code",
   "execution_count": 5,
   "metadata": {},
   "outputs": [
    {
     "name": "stdout",
     "output_type": "stream",
     "text": [
      "=> loading checkpoint '../out/netruns/baseline_preactresnet18_cross_adam_affectnet_imsize32_gray_weights_000/models/model_best.pth.tar'\n",
      "=> loaded checkpoint for preactresnet18 arch!\n"
     ]
    }
   ],
   "source": [
    "# neuralnet\n",
    "network = NeuralNetClassifier(\n",
    "    patchproject=project,\n",
    "    nameproject=name,\n",
    "    no_cuda=no_cuda,\n",
    "    seed=seed,\n",
    "    gpu=gpu\n",
    "    )\n",
    "\n",
    "cudnn.benchmark = True\n",
    "\n",
    "# load model\n",
    "if network.load( pathmodels ) is not True:\n",
    "    assert(False)"
   ]
  },
  {
   "cell_type": "code",
   "execution_count": null,
   "metadata": {},
   "outputs": [],
   "source": []
  },
  {
   "cell_type": "code",
   "execution_count": 6,
   "metadata": {},
   "outputs": [
    {
     "name": "stdout",
     "output_type": "stream",
     "text": [
      "Data loader \n",
      "67\n",
      "4000\n"
     ]
    }
   ],
   "source": [
    "\n",
    "name_dataset=FactoryDataset.affectdark\n",
    "subset=FactoryDataset.validation\n",
    "\n",
    "data = Dataset(\n",
    "    data=FactoryDataset.factory(\n",
    "        pathname=pathname, \n",
    "        name=name_dataset, \n",
    "        subset=subset, \n",
    "        download=True ),\n",
    "    num_channels=num_input_channels,\n",
    "    transform=get_transforms_det(network.size_input)\n",
    "    )\n",
    "\n",
    "# data = SyntheticFaceDataset(\n",
    "#     data=FactoryDataset.factory(\n",
    "#         pathname=pathname, \n",
    "#         name=name_dataset, \n",
    "#         subset=subset, \n",
    "#         download=True \n",
    "#         ),\n",
    "#     pathnameback='~/.datasets/coco', \n",
    "#     generate='image_and_label',\n",
    "#     ext='jpg',\n",
    "#     count=2000,\n",
    "#     num_channels=3,\n",
    "#     iluminate=True, angle=45, translation=0.3, warp=0.2, factor=0.2,\n",
    "#     #iluminate=True, angle=45, translation=0.1, warp=0.0, factor=0.0,\n",
    "#     transform=get_transforms_det(network.size_input)\n",
    "#     )\n",
    "\n",
    "\n",
    "dataloader = DataLoader(data, batch_size=batch_size, shuffle=False, num_workers=workers )\n",
    "\n",
    "print('Data loader ')\n",
    "print(len(dataloader))\n",
    "print(len(data))"
   ]
  },
  {
   "cell_type": "code",
   "execution_count": 7,
   "metadata": {},
   "outputs": [
    {
     "name": "stderr",
     "output_type": "stream",
     "text": [
      "100%|██████████| 67/67 [00:02<00:00, 23.26it/s]"
     ]
    },
    {
     "name": "stdout",
     "output_type": "stream",
     "text": [
      "dir: ../out/netruns/baseline_preactresnet18_cross_adam_affectnet_imsize32_gray_weights_000\n",
      "DONE!!!\n"
     ]
    },
    {
     "name": "stderr",
     "output_type": "stream",
     "text": [
      "\n"
     ]
    }
   ],
   "source": [
    "Yhat, Y = network.test( dataloader )\n",
    "df = pd.DataFrame( np.concatenate((Yhat, Y), axis=1) )\n",
    "df.to_csv( os.path.join(project , '{}_{}_{}_dp.csv'.format(subset,name,name_dataset)), index=False, encoding='utf-8')       \n",
    "\n",
    "print('dir: {}'.format(project))\n",
    "print('DONE!!!')"
   ]
  },
  {
   "cell_type": "code",
   "execution_count": 8,
   "metadata": {},
   "outputs": [
    {
     "data": {
      "text/html": [
       "<div>\n",
       "<style scoped>\n",
       "    .dataframe tbody tr th:only-of-type {\n",
       "        vertical-align: middle;\n",
       "    }\n",
       "\n",
       "    .dataframe tbody tr th {\n",
       "        vertical-align: top;\n",
       "    }\n",
       "\n",
       "    .dataframe thead th {\n",
       "        text-align: right;\n",
       "    }\n",
       "</style>\n",
       "<table border=\"1\" class=\"dataframe\">\n",
       "  <thead>\n",
       "    <tr style=\"text-align: right;\">\n",
       "      <th></th>\n",
       "      <th>0</th>\n",
       "      <th>1</th>\n",
       "      <th>2</th>\n",
       "      <th>3</th>\n",
       "      <th>4</th>\n",
       "      <th>5</th>\n",
       "      <th>6</th>\n",
       "      <th>7</th>\n",
       "      <th>8</th>\n",
       "    </tr>\n",
       "  </thead>\n",
       "  <tbody>\n",
       "    <tr>\n",
       "      <th>0</th>\n",
       "      <td>0.002436</td>\n",
       "      <td>0.006261</td>\n",
       "      <td>0.000271</td>\n",
       "      <td>0.004019</td>\n",
       "      <td>0.002375</td>\n",
       "      <td>0.006420</td>\n",
       "      <td>0.000280</td>\n",
       "      <td>0.977939</td>\n",
       "      <td>7.0</td>\n",
       "    </tr>\n",
       "    <tr>\n",
       "      <th>1</th>\n",
       "      <td>0.355745</td>\n",
       "      <td>0.000790</td>\n",
       "      <td>0.074175</td>\n",
       "      <td>0.521086</td>\n",
       "      <td>0.025943</td>\n",
       "      <td>0.000510</td>\n",
       "      <td>0.021104</td>\n",
       "      <td>0.000646</td>\n",
       "      <td>0.0</td>\n",
       "    </tr>\n",
       "    <tr>\n",
       "      <th>2</th>\n",
       "      <td>0.113457</td>\n",
       "      <td>0.001904</td>\n",
       "      <td>0.090351</td>\n",
       "      <td>0.070472</td>\n",
       "      <td>0.551933</td>\n",
       "      <td>0.091790</td>\n",
       "      <td>0.076350</td>\n",
       "      <td>0.003742</td>\n",
       "      <td>0.0</td>\n",
       "    </tr>\n",
       "    <tr>\n",
       "      <th>3</th>\n",
       "      <td>0.172593</td>\n",
       "      <td>0.001020</td>\n",
       "      <td>0.066972</td>\n",
       "      <td>0.080591</td>\n",
       "      <td>0.050622</td>\n",
       "      <td>0.000114</td>\n",
       "      <td>0.626424</td>\n",
       "      <td>0.001665</td>\n",
       "      <td>6.0</td>\n",
       "    </tr>\n",
       "    <tr>\n",
       "      <th>4</th>\n",
       "      <td>0.712495</td>\n",
       "      <td>0.005091</td>\n",
       "      <td>0.031731</td>\n",
       "      <td>0.083784</td>\n",
       "      <td>0.141648</td>\n",
       "      <td>0.000251</td>\n",
       "      <td>0.011279</td>\n",
       "      <td>0.013722</td>\n",
       "      <td>0.0</td>\n",
       "    </tr>\n",
       "  </tbody>\n",
       "</table>\n",
       "</div>"
      ],
      "text/plain": [
       "          0         1         2         3         4         5         6  \\\n",
       "0  0.002436  0.006261  0.000271  0.004019  0.002375  0.006420  0.000280   \n",
       "1  0.355745  0.000790  0.074175  0.521086  0.025943  0.000510  0.021104   \n",
       "2  0.113457  0.001904  0.090351  0.070472  0.551933  0.091790  0.076350   \n",
       "3  0.172593  0.001020  0.066972  0.080591  0.050622  0.000114  0.626424   \n",
       "4  0.712495  0.005091  0.031731  0.083784  0.141648  0.000251  0.011279   \n",
       "\n",
       "          7    8  \n",
       "0  0.977939  7.0  \n",
       "1  0.000646  0.0  \n",
       "2  0.003742  0.0  \n",
       "3  0.001665  6.0  \n",
       "4  0.013722  0.0  "
      ]
     },
     "execution_count": 8,
     "metadata": {},
     "output_type": "execute_result"
    }
   ],
   "source": [
    "df = pd.read_csv( os.path.join(project , '{}_{}_{}_dp.csv'.format(subset, name, name_dataset))  )\n",
    "df.head()"
   ]
  },
  {
   "cell_type": "code",
   "execution_count": 14,
   "metadata": {},
   "outputs": [
    {
     "name": "stdout",
     "output_type": "stream",
     "text": [
      "Accuracy : 0.494750\n",
      "Precision : 0.504170\n",
      "Recall : 0.494750\n",
      "F1 score : 0.499415\n",
      "\n",
      "0,495\n",
      "0,504\n",
      "0,495\n",
      "0,499\n"
     ]
    }
   ],
   "source": [
    "result = df.as_matrix()\n",
    "yhat = np.argmax( result[:,:-1], axis=1 )\n",
    "y = result[:,-1]\n",
    "\n",
    "acc = metrics.accuracy_score(y, yhat)\n",
    "precision = metrics.precision_score(y, yhat, average='macro')\n",
    "recall = metrics.recall_score(y, yhat, average='macro')\n",
    "f1_score = 2*precision*recall/(precision+recall)\n",
    "\n",
    "print('Accuracy : %f' % acc)\n",
    "print('Precision : %f' % precision)\n",
    "print('Recall : %f' % recall)\n",
    "print('F1 score : %f' % f1_score)\n",
    "print(\"\")\n",
    "\n",
    "print( '{:0.3f}\\n{:0.3f}\\n{:0.3f}\\n{:0.3f}'.format(acc,precision,recall,f1_score).replace('.',',')  )\n"
   ]
  },
  {
   "cell_type": "code",
   "execution_count": null,
   "metadata": {},
   "outputs": [],
   "source": []
  },
  {
   "cell_type": "code",
   "execution_count": 10,
   "metadata": {},
   "outputs": [
    {
     "name": "stdout",
     "output_type": "stream",
     "text": [
      "             precision    recall  f1-score   support\n",
      "\n",
      "        0.0       0.47      0.47      0.47       500\n",
      "        1.0       0.72      0.70      0.71       500\n",
      "        2.0       0.53      0.58      0.55       500\n",
      "        3.0       0.62      0.44      0.52       500\n",
      "        4.0       0.46      0.60      0.52       500\n",
      "        5.0       0.54      0.54      0.54       500\n",
      "        6.0       0.62      0.51      0.56       500\n",
      "        7.0       0.54      0.59      0.56       500\n",
      "\n",
      "avg / total       0.56      0.55      0.55      4000\n",
      "\n"
     ]
    }
   ],
   "source": [
    "metric = metrics.classification_report(y, yhat)\n",
    "print(metric)"
   ]
  },
  {
   "cell_type": "code",
   "execution_count": 11,
   "metadata": {},
   "outputs": [
    {
     "name": "stdout",
     "output_type": "stream",
     "text": [
      "[[236   9  50  30  72  18  16  69]\n",
      " [ 13 351  21   2   3   9   4  97]\n",
      " [ 37  29 291  11  28  27  65  12]\n",
      " [ 72  16  24 221  62  52  34  19]\n",
      " [ 50   2  26  24 300  60  18  20]\n",
      " [ 23  17  20  23 100 270  18  29]\n",
      " [ 20   7 109  29  41  35 253   6]\n",
      " [ 52  56  13  15  42  26   2 294]]\n"
     ]
    }
   ],
   "source": [
    "mc = metrics.confusion_matrix(y, yhat)\n",
    "print(mc)"
   ]
  },
  {
   "cell_type": "code",
   "execution_count": null,
   "metadata": {},
   "outputs": [],
   "source": []
  },
  {
   "cell_type": "code",
   "execution_count": 12,
   "metadata": {},
   "outputs": [
    {
     "name": "stdout",
     "output_type": "stream",
     "text": [
      "Normalized confusion matrix\n"
     ]
    },
    {
     "data": {
      "image/png": "[encoded data removed]",
      "text/plain": [
       "<Figure size 576x576 with 1 Axes>"
      ]
     },
     "metadata": {},
     "output_type": "display_data"
    }
   ],
   "source": [
    "import itertools\n",
    "import matplotlib.pyplot as plt\n",
    "%matplotlib inline\n",
    "\n",
    "def plot_confusion_matrix(cm, classes,\n",
    "                          normalize=True,\n",
    "                          title='Confusion matrix',\n",
    "                          cmap=plt.cm.Blues):\n",
    "    \"\"\"\n",
    "    This function prints and plots the confusion matrix.\n",
    "    Normalization can be applied by setting `normalize=True`.\n",
    "    \"\"\"\n",
    "    if normalize:\n",
    "        cm = cm.astype('float') / cm.sum(axis=1)[:, np.newaxis]\n",
    "        print(\"Normalized confusion matrix\")\n",
    "    else:\n",
    "        print('Confusion matrix, without normalization')\n",
    "\n",
    "    #print(cm)\n",
    "\n",
    "    plt.imshow(cm, interpolation='nearest', cmap=cmap)\n",
    "    plt.title(title)\n",
    "    #plt.colorbar()\n",
    "    tick_marks = np.arange(len(classes))\n",
    "    plt.xticks(tick_marks, classes, rotation=45)\n",
    "    plt.yticks(tick_marks, classes)\n",
    "\n",
    "    fmt = '.2f' if normalize else 'd'\n",
    "    thresh = cm.max() / 2.\n",
    "    for i, j in itertools.product(range(cm.shape[0]), range(cm.shape[1])):\n",
    "        plt.text(j, i, format(cm[i, j], fmt),\n",
    "                 horizontalalignment=\"center\",\n",
    "                 color=\"white\" if cm[i, j] > thresh else \"black\")\n",
    "\n",
    "    plt.tight_layout()\n",
    "    plt.ylabel('True label')\n",
    "    plt.xlabel('Predicted label')\n",
    "\n",
    "\n",
    "plt.figure( figsize=(8,8))\n",
    "plot_confusion_matrix(mc, classes=data.data.classes, title=' ')\n",
    "plt.show()"
   ]
  },
  {
   "cell_type": "code",
   "execution_count": null,
   "metadata": {},
   "outputs": [],
   "source": []
  },
  {
   "cell_type": "code",
   "execution_count": null,
   "metadata": {},
   "outputs": [],
   "source": []
  },
  {
   "cell_type": "code",
   "execution_count": null,
   "metadata": {},
   "outputs": [],
   "source": []
  },
  {
   "cell_type": "code",
   "execution_count": null,
   "metadata": {},
   "outputs": [],
   "source": []
  },
  {
   "cell_type": "code",
   "execution_count": null,
   "metadata": {},
   "outputs": [],
   "source": []
  }
 ],
 "metadata": {
  "kernelspec": {
   "display_name": "Python 3",
   "language": "python",
   "name": "python3"
  },
  "language_info": {
   "codemirror_mode": {
    "name": "ipython",
    "version": 3
   },
   "file_extension": ".py",
   "mimetype": "text/x-python",
   "name": "python",
   "nbconvert_exporter": "python",
   "pygments_lexer": "ipython3",
   "version": "3.6.8"
  }
 },
 "nbformat": 4,
 "nbformat_minor": 2
}
