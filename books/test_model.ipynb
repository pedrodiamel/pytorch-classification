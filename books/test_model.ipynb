{
 "cells": [
  {
   "cell_type": "code",
   "execution_count": null,
   "metadata": {},
   "outputs": [],
   "source": []
  },
  {
   "cell_type": "code",
   "execution_count": 1,
   "metadata": {},
   "outputs": [],
   "source": [
    "import os\n",
    "import sys\n",
    "import numpy as np\n",
    "import pandas as pd\n",
    "import random\n",
    "\n",
    "from argparse import ArgumentParser\n",
    "import datetime\n",
    "\n",
    "import torch\n",
    "from torch.utils.data import Dataset, DataLoader\n",
    "from torchvision import transforms, utils\n",
    "import torch.backends.cudnn as cudnn\n",
    "\n",
    "\n",
    "from pytvision.datasets.factory  import FactoryDataset \n",
    "from pytvision.datasets.datasets import Dataset \n",
    "from pytvision.datasets.fersynthetic  import SyntheticFaceDataset\n",
    "from pytvision.transforms import transforms as mtrans\n",
    "from pytvision import visualization as view\n",
    "\n",
    "sys.path.append('../')\n",
    "# from torchlib.datasets.factory  import FactoryDataset \n",
    "# from torchlib.datasets.datasets import Dataset \n",
    "# from torchlib.datasets.fersynthetic  import SyntheticFaceDataset\n",
    "from torchlib.neuralnet import NeuralNetClassifier\n",
    "from misc import get_transforms_det\n",
    "\n",
    "from sklearn import metrics"
   ]
  },
  {
   "cell_type": "code",
   "execution_count": null,
   "metadata": {},
   "outputs": [],
   "source": []
  },
  {
   "cell_type": "code",
   "execution_count": 2,
   "metadata": {},
   "outputs": [
    {
     "name": "stdout",
     "output_type": "stream",
     "text": [
      "/home/fernandez/.datasets\n",
      "../out/netruns\n"
     ]
    }
   ],
   "source": [
    "pathname = os.path.expanduser( '~/.datasets' )\n",
    "projectnet='../out/netruns'\n",
    "no_cuda=False\n",
    "seed=1\n",
    "gpu=1\n",
    "batch_size=60\n",
    "workers=10\n",
    "num_input_channels=3\n",
    "\n",
    "print(pathname)\n",
    "print(projectnet)\n"
   ]
  },
  {
   "cell_type": "code",
   "execution_count": 3,
   "metadata": {},
   "outputs": [
    {
     "name": "stdout",
     "output_type": "stream",
     "text": [
      "baseline_preactresnet18_cross_adam_affectnetdark_fold0_weights_000\n",
      "baseline_preactresnet18_cross_adam_affectnet_imsize32_gray_weights_000\n",
      "baseline_preactresnet18_cross_adam_ferp_000\n",
      "baseline_preactresnet18_cross_sgd_affect_000\n",
      "baseline_preactresnet18_cross_sgd_affectnet_000\n",
      "baseline_preactresnet18_cross_sgd_affectnet_weights_000\n",
      "ferbase_preactresnet18_cross_adam_bu3dfe_fold0_000\n",
      "ferbase_preactresnet18_cross_adam_real_bu3dfe_fold0_000\n",
      "ferbase_preactresnet18_cross_sgd_real_bu3dfe_fold0_000\n"
     ]
    }
   ],
   "source": [
    "!ls ../out/netruns/"
   ]
  },
  {
   "cell_type": "code",
   "execution_count": 4,
   "metadata": {},
   "outputs": [
    {
     "name": "stdout",
     "output_type": "stream",
     "text": [
      "../out/netruns/baseline_preactresnet18_cross_adam_ferp_000\n",
      "../out/netruns/baseline_preactresnet18_cross_adam_ferp_000/models/model_best.pth.tar\n"
     ]
    }
   ],
   "source": [
    "name = 'baseline_preactresnet18_cross_adam_ferp_000'\n",
    "project = os.path.join(projectnet, name)\n",
    "model = 'model_best.pth.tar' #'chk000025.pth.tar', model_best\n",
    "pathmodels = os.path.join(project,'models',model)\n",
    "\n",
    "print(project)\n",
    "print(pathmodels)"
   ]
  },
  {
   "cell_type": "markdown",
   "metadata": {},
   "source": [
    "## Load model"
   ]
  },
  {
   "cell_type": "code",
   "execution_count": 5,
   "metadata": {},
   "outputs": [
    {
     "name": "stdout",
     "output_type": "stream",
     "text": [
      "=> loading checkpoint '../out/netruns/baseline_preactresnet18_cross_adam_ferp_000/models/model_best.pth.tar'\n",
      "=> loaded checkpoint for preactresnet18 arch!\n"
     ]
    }
   ],
   "source": [
    "# neuralnet\n",
    "network = NeuralNetClassifier(\n",
    "    patchproject=project,\n",
    "    nameproject=name,\n",
    "    no_cuda=no_cuda,\n",
    "    seed=seed,\n",
    "    gpu=gpu\n",
    "    )\n",
    "\n",
    "cudnn.benchmark = True\n",
    "\n",
    "# load model\n",
    "if network.load( pathmodels ) is not True:\n",
    "    assert(False)"
   ]
  },
  {
   "cell_type": "code",
   "execution_count": null,
   "metadata": {},
   "outputs": [],
   "source": []
  },
  {
   "cell_type": "code",
   "execution_count": 6,
   "metadata": {},
   "outputs": [
    {
     "name": "stdout",
     "output_type": "stream",
     "text": [
      "Data loader \n",
      "67\n",
      "4000\n"
     ]
    }
   ],
   "source": [
    "name_dataset=FactoryDataset.affect\n",
    "subset=FactoryDataset.validation\n",
    "\n",
    "nactores=10\n",
    "kfold=0\n",
    "idenselect = [] #np.arange(nactores) + kfold*nactores\n",
    "breal=True\n",
    "\n",
    "\n",
    "data = Dataset(\n",
    "    data=FactoryDataset.factory(\n",
    "        pathname=pathname, \n",
    "        name=name_dataset, \n",
    "        subset=subset, \n",
    "        #idenselect=idenselect,\n",
    "        download=True ),\n",
    "    num_channels=num_input_channels,\n",
    "    transform=get_transforms_det(network.size_input)\n",
    "    )\n",
    "\n",
    "# data = SyntheticFaceDataset(\n",
    "#     data=FactoryDataset.factory(\n",
    "#         pathname=pathname, \n",
    "#         name=name_dataset, \n",
    "#         subset=subset, \n",
    "#         #idenselect=idenselect,\n",
    "#         download=True \n",
    "#         ),\n",
    "#     pathnameback='~/.datasets/coco', \n",
    "#     generate='image_and_label',\n",
    "#     ext='jpg',\n",
    "#     count=2000,\n",
    "#     num_channels=network.num_input_channels,\n",
    "#     iluminate=True, angle=45, translation=0.3, warp=0.2, factor=0.2,\n",
    "#     #iluminate=True, angle=45, translation=0.1, warp=0.0, factor=0.0,\n",
    "#     transform_image=get_transforms_det( network.size_input )\n",
    "#     )\n",
    "\n",
    "\n",
    "dataloader = DataLoader(data, batch_size=batch_size, shuffle=False, num_workers=workers )\n",
    "\n",
    "print('Data loader ')\n",
    "print(len(dataloader))\n",
    "print(len(data))"
   ]
  },
  {
   "cell_type": "code",
   "execution_count": 7,
   "metadata": {},
   "outputs": [
    {
     "name": "stderr",
     "output_type": "stream",
     "text": [
      "100%|██████████| 67/67 [00:10<00:00,  6.41it/s]\n"
     ]
    },
    {
     "name": "stdout",
     "output_type": "stream",
     "text": [
      "dir: ../out/netruns/baseline_preactresnet18_cross_adam_ferp_000\n",
      "DONE!!!\n"
     ]
    }
   ],
   "source": [
    "Yhat, Y = network.test( dataloader )\n",
    "df = pd.DataFrame( np.concatenate((Yhat, Y), axis=1) )\n",
    "df.to_csv( os.path.join(project , '{}_{}_{}_dp.csv'.format(subset,name,name_dataset)), index=False, encoding='utf-8')       \n",
    "\n",
    "print('dir: {}'.format(project))\n",
    "print('DONE!!!')"
   ]
  },
  {
   "cell_type": "code",
   "execution_count": 8,
   "metadata": {},
   "outputs": [
    {
     "data": {
      "text/html": [
       "<div>\n",
       "<style scoped>\n",
       "    .dataframe tbody tr th:only-of-type {\n",
       "        vertical-align: middle;\n",
       "    }\n",
       "\n",
       "    .dataframe tbody tr th {\n",
       "        vertical-align: top;\n",
       "    }\n",
       "\n",
       "    .dataframe thead th {\n",
       "        text-align: right;\n",
       "    }\n",
       "</style>\n",
       "<table border=\"1\" class=\"dataframe\">\n",
       "  <thead>\n",
       "    <tr style=\"text-align: right;\">\n",
       "      <th></th>\n",
       "      <th>0</th>\n",
       "      <th>1</th>\n",
       "      <th>2</th>\n",
       "      <th>3</th>\n",
       "      <th>4</th>\n",
       "      <th>5</th>\n",
       "      <th>6</th>\n",
       "      <th>7</th>\n",
       "      <th>8</th>\n",
       "    </tr>\n",
       "  </thead>\n",
       "  <tbody>\n",
       "    <tr>\n",
       "      <th>0</th>\n",
       "      <td>0.999861</td>\n",
       "      <td>6.206946e-07</td>\n",
       "      <td>2.588902e-05</td>\n",
       "      <td>0.000112</td>\n",
       "      <td>3.737705e-07</td>\n",
       "      <td>1.480863e-14</td>\n",
       "      <td>6.261883e-11</td>\n",
       "      <td>2.000840e-09</td>\n",
       "      <td>7.0</td>\n",
       "    </tr>\n",
       "    <tr>\n",
       "      <th>1</th>\n",
       "      <td>0.770028</td>\n",
       "      <td>1.003492e-06</td>\n",
       "      <td>1.557262e-04</td>\n",
       "      <td>0.229369</td>\n",
       "      <td>4.325655e-04</td>\n",
       "      <td>7.872593e-08</td>\n",
       "      <td>1.876710e-06</td>\n",
       "      <td>1.228591e-05</td>\n",
       "      <td>0.0</td>\n",
       "    </tr>\n",
       "    <tr>\n",
       "      <th>2</th>\n",
       "      <td>0.995836</td>\n",
       "      <td>3.634784e-03</td>\n",
       "      <td>6.531939e-05</td>\n",
       "      <td>0.000364</td>\n",
       "      <td>1.004492e-04</td>\n",
       "      <td>3.076871e-11</td>\n",
       "      <td>3.073085e-09</td>\n",
       "      <td>3.077699e-07</td>\n",
       "      <td>0.0</td>\n",
       "    </tr>\n",
       "    <tr>\n",
       "      <th>3</th>\n",
       "      <td>0.999906</td>\n",
       "      <td>3.679702e-05</td>\n",
       "      <td>1.131254e-06</td>\n",
       "      <td>0.000055</td>\n",
       "      <td>1.149523e-06</td>\n",
       "      <td>3.491662e-09</td>\n",
       "      <td>1.485161e-09</td>\n",
       "      <td>8.559946e-11</td>\n",
       "      <td>6.0</td>\n",
       "    </tr>\n",
       "    <tr>\n",
       "      <th>4</th>\n",
       "      <td>0.999985</td>\n",
       "      <td>1.544833e-08</td>\n",
       "      <td>3.703779e-07</td>\n",
       "      <td>0.000014</td>\n",
       "      <td>4.020848e-07</td>\n",
       "      <td>3.571206e-16</td>\n",
       "      <td>1.684685e-11</td>\n",
       "      <td>9.224966e-10</td>\n",
       "      <td>0.0</td>\n",
       "    </tr>\n",
       "  </tbody>\n",
       "</table>\n",
       "</div>"
      ],
      "text/plain": [
       "          0             1             2         3             4             5  \\\n",
       "0  0.999861  6.206946e-07  2.588902e-05  0.000112  3.737705e-07  1.480863e-14   \n",
       "1  0.770028  1.003492e-06  1.557262e-04  0.229369  4.325655e-04  7.872593e-08   \n",
       "2  0.995836  3.634784e-03  6.531939e-05  0.000364  1.004492e-04  3.076871e-11   \n",
       "3  0.999906  3.679702e-05  1.131254e-06  0.000055  1.149523e-06  3.491662e-09   \n",
       "4  0.999985  1.544833e-08  3.703779e-07  0.000014  4.020848e-07  3.571206e-16   \n",
       "\n",
       "              6             7    8  \n",
       "0  6.261883e-11  2.000840e-09  7.0  \n",
       "1  1.876710e-06  1.228591e-05  0.0  \n",
       "2  3.073085e-09  3.077699e-07  0.0  \n",
       "3  1.485161e-09  8.559946e-11  6.0  \n",
       "4  1.684685e-11  9.224966e-10  0.0  "
      ]
     },
     "execution_count": 8,
     "metadata": {},
     "output_type": "execute_result"
    }
   ],
   "source": [
    "df = pd.read_csv( os.path.join(project , '{}_{}_{}_dp.csv'.format(subset, name, name_dataset))  )\n",
    "df.head()"
   ]
  },
  {
   "cell_type": "code",
   "execution_count": 9,
   "metadata": {},
   "outputs": [
    {
     "name": "stdout",
     "output_type": "stream",
     "text": [
      "|Acc\t|Prec\t|Rec\t|F1\t|\n",
      "|0,279\t|0,447\t|0,279\t|0,343\t|\n",
      "\n",
      "27,850\n",
      "44,749\n",
      "27,850\n",
      "34,333\n"
     ]
    }
   ],
   "source": [
    "result = df.as_matrix()\n",
    "yhat = np.argmax( result[:,:-1], axis=1 )\n",
    "y = result[:,-1]\n",
    "\n",
    "acc = metrics.accuracy_score(y, yhat)\n",
    "precision = metrics.precision_score(y, yhat, average='macro')\n",
    "recall = metrics.recall_score(y, yhat, average='macro')\n",
    "f1_score = 2*precision*recall/(precision+recall)\n",
    "\n",
    "# print('Accuracy : %f' % acc)\n",
    "# print('Precision : %f' % precision)\n",
    "# print('Recall : %f' % recall)\n",
    "# print('F1 score : %f' % f1_score)\n",
    "# print(\"\")\n",
    "print('|Acc\\t|Prec\\t|Rec\\t|F1\\t|')\n",
    "print( '|{:0.3f}\\t|{:0.3f}\\t|{:0.3f}\\t|{:0.3f}\\t|'.format(acc,precision,recall,f1_score).replace('.',',')  )\n",
    "\n",
    "print()\n",
    "print( '{:0.3f}\\n{:0.3f}\\n{:0.3f}\\n{:0.3f}'.format(acc*100,precision*100,recall*100,f1_score*100).replace('.',',')  )"
   ]
  },
  {
   "cell_type": "code",
   "execution_count": 34,
   "metadata": {},
   "outputs": [
    {
     "name": "stdout",
     "output_type": "stream",
     "text": [
      "              precision    recall  f1-score   support\n",
      "\n",
      "         0.0       0.17      0.94      0.28       500\n",
      "         1.0       0.49      0.62      0.55       500\n",
      "         2.0       0.42      0.16      0.24       500\n",
      "         3.0       0.41      0.13      0.20       500\n",
      "         4.0       0.38      0.09      0.15       500\n",
      "         5.0       0.75      0.01      0.01       500\n",
      "         6.0       0.62      0.05      0.09       500\n",
      "         7.0       0.00      0.00      0.00       500\n",
      "\n",
      "   micro avg       0.25      0.25      0.25      4000\n",
      "   macro avg       0.41      0.25      0.19      4000\n",
      "weighted avg       0.41      0.25      0.19      4000\n",
      "\n"
     ]
    }
   ],
   "source": [
    "metric = metrics.classification_report(y, yhat)\n",
    "print(metric)"
   ]
  },
  {
   "cell_type": "code",
   "execution_count": 35,
   "metadata": {},
   "outputs": [
    {
     "name": "stdout",
     "output_type": "stream",
     "text": [
      "[[471  19   5   3   1   0   1   0]\n",
      " [173 311   6   4   5   0   1   0]\n",
      " [333  57  82  16   4   0   8   0]\n",
      " [393  30   6  65   4   0   2   0]\n",
      " [408  23   9  12  46   0   1   1]\n",
      " [369  49  14  24  39   3   2   0]\n",
      " [321  44  67  23  19   1  25   0]\n",
      " [379 102   6  10   3   0   0   0]]\n"
     ]
    }
   ],
   "source": [
    "mc = metrics.confusion_matrix(y, yhat)\n",
    "print(mc)"
   ]
  },
  {
   "cell_type": "code",
   "execution_count": null,
   "metadata": {},
   "outputs": [],
   "source": []
  },
  {
   "cell_type": "code",
   "execution_count": 36,
   "metadata": {},
   "outputs": [
    {
     "name": "stdout",
     "output_type": "stream",
     "text": [
      "Normalized confusion matrix\n"
     ]
    },
    {
     "data": {
      "image/png": "[encoded data removed]",
      "text/plain": [
       "<matplotlib.figure.Figure at 0x7f8a9e87ab38>"
      ]
     },
     "metadata": {},
     "output_type": "display_data"
    }
   ],
   "source": [
    "import itertools\n",
    "import matplotlib.pyplot as plt\n",
    "%matplotlib inline\n",
    "\n",
    "def plot_confusion_matrix(cm, classes,\n",
    "                          normalize=True,\n",
    "                          title='Confusion matrix',\n",
    "                          cmap=plt.cm.Blues):\n",
    "    \"\"\"\n",
    "    This function prints and plots the confusion matrix.\n",
    "    Normalization can be applied by setting `normalize=True`.\n",
    "    \"\"\"\n",
    "    if normalize:\n",
    "        cm = cm.astype('float') / cm.sum(axis=1)[:, np.newaxis]\n",
    "        print(\"Normalized confusion matrix\")\n",
    "    else:\n",
    "        print('Confusion matrix, without normalization')\n",
    "\n",
    "    #print(cm)\n",
    "\n",
    "    plt.imshow(cm, interpolation='nearest', cmap=cmap)\n",
    "    plt.title(title)\n",
    "    #plt.colorbar()\n",
    "    tick_marks = np.arange(len(classes))\n",
    "    plt.xticks(tick_marks, classes, rotation=45)\n",
    "    plt.yticks(tick_marks, classes)\n",
    "\n",
    "    fmt = '.2f' if normalize else 'd'\n",
    "    thresh = cm.max() / 2.\n",
    "    for i, j in itertools.product(range(cm.shape[0]), range(cm.shape[1])):\n",
    "        plt.text(j, i, format(cm[i, j], fmt),\n",
    "                 horizontalalignment=\"center\",\n",
    "                 color=\"white\" if cm[i, j] > thresh else \"black\")\n",
    "\n",
    "    plt.tight_layout()\n",
    "    plt.ylabel('True label')\n",
    "    plt.xlabel('Predicted label')\n",
    "\n",
    "\n",
    "plt.figure( figsize=(8,8))\n",
    "plot_confusion_matrix(mc, classes=data.data.classes, title=' ')\n",
    "plt.show()"
   ]
  },
  {
   "cell_type": "code",
   "execution_count": null,
   "metadata": {},
   "outputs": [],
   "source": []
  },
  {
   "cell_type": "code",
   "execution_count": null,
   "metadata": {},
   "outputs": [],
   "source": []
  },
  {
   "cell_type": "code",
   "execution_count": null,
   "metadata": {},
   "outputs": [],
   "source": []
  },
  {
   "cell_type": "code",
   "execution_count": null,
   "metadata": {},
   "outputs": [],
   "source": []
  },
  {
   "cell_type": "code",
   "execution_count": null,
   "metadata": {},
   "outputs": [],
   "source": []
  }
 ],
 "metadata": {
  "kernelspec": {
   "display_name": "Python 3",
   "language": "python",
   "name": "python3"
  },
  "language_info": {
   "codemirror_mode": {
    "name": "ipython",
    "version": 3
   },
   "file_extension": ".py",
   "mimetype": "text/x-python",
   "name": "python",
   "nbconvert_exporter": "python",
   "pygments_lexer": "ipython3",
   "version": "3.6.8"
  }
 },
 "nbformat": 4,
 "nbformat_minor": 2
}
