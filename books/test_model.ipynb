{
 "cells": [
  {
   "cell_type": "code",
   "execution_count": null,
   "metadata": {},
   "outputs": [],
   "source": []
  },
  {
   "cell_type": "code",
   "execution_count": 1,
   "metadata": {},
   "outputs": [],
   "source": [
    "import os\n",
    "import sys\n",
    "import numpy as np\n",
    "import pandas as pd\n",
    "import random\n",
    "\n",
    "from argparse import ArgumentParser\n",
    "import datetime\n",
    "\n",
    "import torch\n",
    "from torch.utils.data import Dataset, DataLoader\n",
    "from torchvision import transforms, utils\n",
    "import torch.backends.cudnn as cudnn\n",
    "\n",
    "\n",
    "from pytvision.datasets.factory  import FactoryDataset \n",
    "from pytvision.datasets.datasets import Dataset \n",
    "from pytvision.datasets.fersynthetic  import SyntheticFaceDataset\n",
    "from pytvision.transforms import transforms as mtrans\n",
    "from pytvision import visualization as view\n",
    "\n",
    "sys.path.append('../')\n",
    "# from torchlib.datasets.factory  import FactoryDataset \n",
    "# from torchlib.datasets.datasets import Dataset \n",
    "# from torchlib.datasets.fersynthetic  import SyntheticFaceDataset\n",
    "from torchlib.neuralnet import NeuralNetClassifier\n",
    "from misc import get_transforms_det\n",
    "\n",
    "from sklearn import metrics"
   ]
  },
  {
   "cell_type": "code",
   "execution_count": null,
   "metadata": {},
   "outputs": [],
   "source": []
  },
  {
   "cell_type": "code",
   "execution_count": 2,
   "metadata": {},
   "outputs": [
    {
     "name": "stdout",
     "output_type": "stream",
     "text": [
      "/root/.datasets\n",
      "../out/netruns\n"
     ]
    }
   ],
   "source": [
    "pathname = os.path.expanduser( '~/.datasets' )\n",
    "projectnet='../out/netruns'\n",
    "no_cuda=False\n",
    "seed=1\n",
    "gpu=1\n",
    "batch_size=60\n",
    "workers=10\n",
    "num_input_channels=3\n",
    "\n",
    "print(pathname)\n",
    "print(projectnet)\n"
   ]
  },
  {
   "cell_type": "code",
   "execution_count": 3,
   "metadata": {},
   "outputs": [
    {
     "name": "stdout",
     "output_type": "stream",
     "text": [
<<<<<<< HEAD
      "baseline_preactresnet18_cross_sgd_fashion_imsize32_000\n",
      "baseline_preactresnet18_cross_sgd_ferp_001\n",
      "baseline_preactresnet18_cross_sgd_ferp_002\n",
      "baseline_preactresnet18_cross_sgd_ferp_003\n",
      "baseline_preactresnet18_cross_sgd_ferp_004\n",
      "baseline_preactresnet18_cross_sgd_stl10_imsize32_000\n",
      "baseline_preactresnet18_cross_sgd_svhn_imsize32_000\n",
      "baseline_preactresnet34_cross_sgd_fashion_imsize32_000\n",
      "baseline_preactresnet34_cross_sgd_ferp_000\n",
      "baseline_preactresnet34_cross_sgd_stl10_imsize32_000\n",
      "baseline_resnet18_cross_sgd_ferp_000\n",
=======
      "baseline_preactresnet18_cross_adam_affectnetdark_fold0_weights_000\n",
      "baseline_preactresnet18_cross_adam_affectnet_imsize32_gray_weights_000\n",
      "baseline_preactresnet18_cross_sgd_affect_000\n",
      "baseline_preactresnet18_cross_sgd_affectnet_000\n",
      "baseline_preactresnet18_cross_sgd_affectnet_weights_000\n",
      "ferbase_preactresnet18_cross_adam_bu3dfe_fold0_000\n",
>>>>>>> ee8179be4377e86e48a9167abb0826c40d5a048e
      "ferbase_preactresnet18_cross_adam_real_bu3dfe_fold0_000\n",
      "ferbase_preactresnet18_cross_adam_real_ck_fold0_000\n",
      "ferbase_resnet18_cross_adam_real_bu3dfe_fold0_000\n"
     ]
    }
   ],
   "source": [
    "!ls ../out/netruns/"
   ]
  },
  {
   "cell_type": "code",
<<<<<<< HEAD
   "execution_count": 11,
=======
   "execution_count": 4,
>>>>>>> ee8179be4377e86e48a9167abb0826c40d5a048e
   "metadata": {},
   "outputs": [
    {
     "name": "stdout",
     "output_type": "stream",
     "text": [
<<<<<<< HEAD
      "../out/netruns/ferbase_preactresnet18_cross_adam_real_bu3dfe_fold0_000\n",
      "../out/netruns/ferbase_preactresnet18_cross_adam_real_bu3dfe_fold0_000/models/model_best.pth.tar\n"
=======
      "../out/netruns/baseline_preactresnet18_cross_adam_affectnetdark_fold0_weights_000\n",
      "../out/netruns/baseline_preactresnet18_cross_adam_affectnetdark_fold0_weights_000/models/model_best.pth.tar\n"
>>>>>>> ee8179be4377e86e48a9167abb0826c40d5a048e
     ]
    }
   ],
   "source": [
<<<<<<< HEAD
    "name = 'ferbase_preactresnet18_cross_adam_real_bu3dfe_fold0_000'\n",
=======
    "name = 'baseline_preactresnet18_cross_adam_affectnetdark_fold0_weights_000'\n",
>>>>>>> ee8179be4377e86e48a9167abb0826c40d5a048e
    "project = os.path.join(projectnet, name)\n",
    "model = 'model_best.pth.tar' #'chk000025.pth.tar', model_best\n",
    "pathmodels = os.path.join(project,'models',model)\n",
    "\n",
    "print(project)\n",
    "print(pathmodels)"
   ]
  },
  {
   "cell_type": "markdown",
   "metadata": {},
   "source": [
    "## Load model"
   ]
  },
  {
   "cell_type": "code",
<<<<<<< HEAD
   "execution_count": 12,
=======
   "execution_count": 5,
>>>>>>> ee8179be4377e86e48a9167abb0826c40d5a048e
   "metadata": {},
   "outputs": [
    {
     "name": "stdout",
     "output_type": "stream",
     "text": [
<<<<<<< HEAD
      "=> loading checkpoint '../out/netruns/ferbase_preactresnet18_cross_adam_real_bu3dfe_fold0_000/models/model_best.pth.tar'\n",
=======
      "=> loading checkpoint '../out/netruns/baseline_preactresnet18_cross_adam_affectnetdark_fold0_weights_000/models/model_best.pth.tar'\n",
>>>>>>> ee8179be4377e86e48a9167abb0826c40d5a048e
      "=> loaded checkpoint for preactresnet18 arch!\n"
     ]
    }
   ],
   "source": [
    "# neuralnet\n",
    "network = NeuralNetClassifier(\n",
    "    patchproject=project,\n",
    "    nameproject=name,\n",
    "    no_cuda=no_cuda,\n",
    "    seed=seed,\n",
    "    gpu=gpu\n",
    "    )\n",
    "\n",
    "cudnn.benchmark = True\n",
    "\n",
    "# load model\n",
    "if network.load( pathmodels ) is not True:\n",
    "    assert(False)"
   ]
  },
  {
   "cell_type": "code",
   "execution_count": null,
   "metadata": {},
   "outputs": [],
   "source": []
  },
  {
   "cell_type": "code",
<<<<<<< HEAD
   "execution_count": 13,
=======
   "execution_count": 12,
>>>>>>> ee8179be4377e86e48a9167abb0826c40d5a048e
   "metadata": {},
   "outputs": [
    {
     "name": "stdout",
     "output_type": "stream",
     "text": [
      "Data loader \n",
      "34\n",
      "2000\n"
     ]
    }
   ],
   "source": [
    "name_dataset=FactoryDataset.affectdark\n",
    "subset=FactoryDataset.validation\n",
    "\n",
    "nactores=10\n",
    "kfold=0\n",
    "idenselect = np.arange(nactores) + kfold*nactores\n",
    "breal=True\n",
    "\n",
    "\n",
    "# data = Dataset(\n",
    "#     data=FactoryDataset.factory(\n",
    "#         pathname=pathname, \n",
    "#         name=name_dataset, \n",
    "#         subset=subset, \n",
    "#         #idenselect=idenselect,\n",
    "#         download=True ),\n",
    "#     num_channels=num_input_channels,\n",
    "#     transform=get_transforms_det(network.size_input)\n",
    "#     )\n",
    "\n",
    "data = SyntheticFaceDataset(\n",
    "    data=FactoryDataset.factory(\n",
    "        pathname=pathname, \n",
    "        name=name_dataset, \n",
    "        subset=subset, \n",
    "        #idenselect=idenselect,\n",
    "        download=True \n",
    "        ),\n",
    "    pathnameback='~/.datasets/coco', \n",
    "    generate='image_and_label',\n",
    "    ext='jpg',\n",
    "    count=2000,\n",
    "    num_channels=network.num_input_channels,\n",
    "    iluminate=True, angle=45, translation=0.3, warp=0.2, factor=0.2,\n",
    "    #iluminate=True, angle=45, translation=0.1, warp=0.0, factor=0.0,\n",
    "    transform_image=get_transforms_det( network.size_input )\n",
    "    )\n",
    "\n",
    "\n",
    "dataloader = DataLoader(data, batch_size=batch_size, shuffle=False, num_workers=workers )\n",
    "\n",
    "print('Data loader ')\n",
    "print(len(dataloader))\n",
    "print(len(data))"
   ]
  },
  {
   "cell_type": "code",
<<<<<<< HEAD
   "execution_count": 14,
=======
   "execution_count": 13,
>>>>>>> ee8179be4377e86e48a9167abb0826c40d5a048e
   "metadata": {},
   "outputs": [
    {
     "name": "stderr",
     "output_type": "stream",
     "text": [
<<<<<<< HEAD
      "100%|██████████| 2/2 [00:00<00:00,  2.09it/s]"
=======
      "100%|██████████| 34/34 [00:15<00:00,  2.20it/s]\n"
>>>>>>> ee8179be4377e86e48a9167abb0826c40d5a048e
     ]
    },
    {
     "name": "stdout",
     "output_type": "stream",
     "text": [
<<<<<<< HEAD
      "dir: ../out/netruns/ferbase_preactresnet18_cross_adam_real_bu3dfe_fold0_000\n",
=======
      "dir: ../out/netruns/baseline_preactresnet18_cross_adam_affectnetdark_fold0_weights_000\n",
>>>>>>> ee8179be4377e86e48a9167abb0826c40d5a048e
      "DONE!!!\n"
     ]
    }
   ],
   "source": [
    "Yhat, Y = network.test( dataloader )\n",
    "df = pd.DataFrame( np.concatenate((Yhat, Y), axis=1) )\n",
    "df.to_csv( os.path.join(project , '{}_{}_{}_dp.csv'.format(subset,name,name_dataset)), index=False, encoding='utf-8')       \n",
    "\n",
    "print('dir: {}'.format(project))\n",
    "print('DONE!!!')"
   ]
  },
  {
   "cell_type": "code",
<<<<<<< HEAD
   "execution_count": 15,
=======
   "execution_count": 14,
>>>>>>> ee8179be4377e86e48a9167abb0826c40d5a048e
   "metadata": {},
   "outputs": [
    {
     "data": {
      "text/html": [
       "<div>\n",
       "<style scoped>\n",
       "    .dataframe tbody tr th:only-of-type {\n",
       "        vertical-align: middle;\n",
       "    }\n",
       "\n",
       "    .dataframe tbody tr th {\n",
       "        vertical-align: top;\n",
       "    }\n",
       "\n",
       "    .dataframe thead th {\n",
       "        text-align: right;\n",
       "    }\n",
       "</style>\n",
       "<table border=\"1\" class=\"dataframe\">\n",
       "  <thead>\n",
       "    <tr style=\"text-align: right;\">\n",
       "      <th></th>\n",
       "      <th>0</th>\n",
       "      <th>1</th>\n",
       "      <th>2</th>\n",
       "      <th>3</th>\n",
       "      <th>4</th>\n",
       "      <th>5</th>\n",
       "      <th>6</th>\n",
       "      <th>7</th>\n",
       "      <th>8</th>\n",
       "    </tr>\n",
       "  </thead>\n",
       "  <tbody>\n",
       "    <tr>\n",
       "      <th>0</th>\n",
<<<<<<< HEAD
       "      <td>7.085413e-10</td>\n",
       "      <td>4.189125e-12</td>\n",
       "      <td>8.555355e-16</td>\n",
       "      <td>1.123489e-04</td>\n",
       "      <td>9.998866e-01</td>\n",
       "      <td>1.341685e-09</td>\n",
       "      <td>9.181794e-07</td>\n",
       "      <td>4.0</td>\n",
       "    </tr>\n",
       "    <tr>\n",
       "      <th>1</th>\n",
       "      <td>5.276249e-16</td>\n",
       "      <td>1.453262e-01</td>\n",
       "      <td>1.292683e-08</td>\n",
       "      <td>5.660413e-10</td>\n",
       "      <td>5.571298e-13</td>\n",
       "      <td>5.344738e-04</td>\n",
       "      <td>8.541393e-01</td>\n",
       "      <td>6.0</td>\n",
       "    </tr>\n",
       "    <tr>\n",
       "      <th>2</th>\n",
       "      <td>9.606603e-16</td>\n",
       "      <td>1.000000e+00</td>\n",
       "      <td>4.167332e-16</td>\n",
       "      <td>3.821051e-17</td>\n",
       "      <td>1.476213e-16</td>\n",
       "      <td>2.293771e-10</td>\n",
       "      <td>3.293667e-11</td>\n",
       "      <td>1.0</td>\n",
       "    </tr>\n",
       "    <tr>\n",
       "      <th>3</th>\n",
       "      <td>9.979308e-01</td>\n",
       "      <td>2.058080e-03</td>\n",
       "      <td>9.157437e-09</td>\n",
       "      <td>1.806097e-10</td>\n",
       "      <td>3.445082e-12</td>\n",
       "      <td>2.119825e-11</td>\n",
       "      <td>1.115297e-05</td>\n",
       "      <td>0.0</td>\n",
       "    </tr>\n",
       "    <tr>\n",
       "      <th>4</th>\n",
       "      <td>1.339747e-08</td>\n",
       "      <td>1.536210e-04</td>\n",
       "      <td>3.495491e-09</td>\n",
       "      <td>6.665358e-05</td>\n",
       "      <td>9.585813e-01</td>\n",
       "      <td>4.880349e-04</td>\n",
       "      <td>4.071034e-02</td>\n",
       "      <td>3.0</td>\n",
=======
       "      <td>0.054870</td>\n",
       "      <td>0.299634</td>\n",
       "      <td>0.093050</td>\n",
       "      <td>0.024565</td>\n",
       "      <td>0.013877</td>\n",
       "      <td>0.008871</td>\n",
       "      <td>0.002066</td>\n",
       "      <td>0.503067</td>\n",
       "      <td>7.0</td>\n",
       "    </tr>\n",
       "    <tr>\n",
       "      <th>1</th>\n",
       "      <td>0.274190</td>\n",
       "      <td>0.004965</td>\n",
       "      <td>0.143220</td>\n",
       "      <td>0.339698</td>\n",
       "      <td>0.077718</td>\n",
       "      <td>0.069827</td>\n",
       "      <td>0.079502</td>\n",
       "      <td>0.010879</td>\n",
       "      <td>0.0</td>\n",
       "    </tr>\n",
       "    <tr>\n",
       "      <th>2</th>\n",
       "      <td>0.174217</td>\n",
       "      <td>0.007681</td>\n",
       "      <td>0.055010</td>\n",
       "      <td>0.338473</td>\n",
       "      <td>0.192531</td>\n",
       "      <td>0.001322</td>\n",
       "      <td>0.230702</td>\n",
       "      <td>0.000064</td>\n",
       "      <td>0.0</td>\n",
       "    </tr>\n",
       "    <tr>\n",
       "      <th>3</th>\n",
       "      <td>0.253545</td>\n",
       "      <td>0.008927</td>\n",
       "      <td>0.146146</td>\n",
       "      <td>0.134698</td>\n",
       "      <td>0.207494</td>\n",
       "      <td>0.003669</td>\n",
       "      <td>0.234590</td>\n",
       "      <td>0.010932</td>\n",
       "      <td>6.0</td>\n",
       "    </tr>\n",
       "    <tr>\n",
       "      <th>4</th>\n",
       "      <td>0.144650</td>\n",
       "      <td>0.068669</td>\n",
       "      <td>0.043800</td>\n",
       "      <td>0.043842</td>\n",
       "      <td>0.034089</td>\n",
       "      <td>0.033824</td>\n",
       "      <td>0.019691</td>\n",
       "      <td>0.611434</td>\n",
       "      <td>0.0</td>\n",
>>>>>>> ee8179be4377e86e48a9167abb0826c40d5a048e
       "    </tr>\n",
       "  </tbody>\n",
       "</table>\n",
       "</div>"
      ],
      "text/plain": [
<<<<<<< HEAD
       "              0             1             2             3             4  \\\n",
       "0  7.085413e-10  4.189125e-12  8.555355e-16  1.123489e-04  9.998866e-01   \n",
       "1  5.276249e-16  1.453262e-01  1.292683e-08  5.660413e-10  5.571298e-13   \n",
       "2  9.606603e-16  1.000000e+00  4.167332e-16  3.821051e-17  1.476213e-16   \n",
       "3  9.979308e-01  2.058080e-03  9.157437e-09  1.806097e-10  3.445082e-12   \n",
       "4  1.339747e-08  1.536210e-04  3.495491e-09  6.665358e-05  9.585813e-01   \n",
       "\n",
       "              5             6    7  \n",
       "0  1.341685e-09  9.181794e-07  4.0  \n",
       "1  5.344738e-04  8.541393e-01  6.0  \n",
       "2  2.293771e-10  3.293667e-11  1.0  \n",
       "3  2.119825e-11  1.115297e-05  0.0  \n",
       "4  4.880349e-04  4.071034e-02  3.0  "
      ]
     },
     "execution_count": 15,
=======
       "          0         1         2         3         4         5         6  \\\n",
       "0  0.054870  0.299634  0.093050  0.024565  0.013877  0.008871  0.002066   \n",
       "1  0.274190  0.004965  0.143220  0.339698  0.077718  0.069827  0.079502   \n",
       "2  0.174217  0.007681  0.055010  0.338473  0.192531  0.001322  0.230702   \n",
       "3  0.253545  0.008927  0.146146  0.134698  0.207494  0.003669  0.234590   \n",
       "4  0.144650  0.068669  0.043800  0.043842  0.034089  0.033824  0.019691   \n",
       "\n",
       "          7    8  \n",
       "0  0.503067  7.0  \n",
       "1  0.010879  0.0  \n",
       "2  0.000064  0.0  \n",
       "3  0.010932  6.0  \n",
       "4  0.611434  0.0  "
      ]
     },
     "execution_count": 14,
>>>>>>> ee8179be4377e86e48a9167abb0826c40d5a048e
     "metadata": {},
     "output_type": "execute_result"
    }
   ],
   "source": [
    "df = pd.read_csv( os.path.join(project , '{}_{}_{}_dp.csv'.format(subset, name, name_dataset))  )\n",
    "df.head()"
   ]
  },
  {
   "cell_type": "code",
<<<<<<< HEAD
   "execution_count": 16,
=======
   "execution_count": 15,
>>>>>>> ee8179be4377e86e48a9167abb0826c40d5a048e
   "metadata": {},
   "outputs": [
    {
     "name": "stdout",
     "output_type": "stream",
     "text": [
      "|Acc\t|Prec\t|Rec\t|F1\t|\n",
<<<<<<< HEAD
      "|0,787\t|0,842\t|0,784\t|0,812\t|\n",
      "\n",
      "0,787\n",
      "0,842\n",
      "0,784\n",
      "0,812\n"
=======
      "|0,425\t|0,429\t|0,424\t|0,427\t|\n",
      "\n",
      "42,550\n",
      "42,940\n",
      "42,434\n",
      "42,686\n"
>>>>>>> ee8179be4377e86e48a9167abb0826c40d5a048e
     ]
    }
   ],
   "source": [
    "result = df.as_matrix()\n",
    "yhat = np.argmax( result[:,:-1], axis=1 )\n",
    "y = result[:,-1]\n",
    "\n",
    "acc = metrics.accuracy_score(y, yhat)\n",
    "precision = metrics.precision_score(y, yhat, average='macro')\n",
    "recall = metrics.recall_score(y, yhat, average='macro')\n",
    "f1_score = 2*precision*recall/(precision+recall)\n",
    "\n",
    "# print('Accuracy : %f' % acc)\n",
    "# print('Precision : %f' % precision)\n",
    "# print('Recall : %f' % recall)\n",
    "# print('F1 score : %f' % f1_score)\n",
    "# print(\"\")\n",
    "print('|Acc\\t|Prec\\t|Rec\\t|F1\\t|')\n",
    "print( '|{:0.3f}\\t|{:0.3f}\\t|{:0.3f}\\t|{:0.3f}\\t|'.format(acc,precision,recall,f1_score).replace('.',',')  )\n",
    "\n",
    "print()\n",
    "print( '{:0.3f}\\n{:0.3f}\\n{:0.3f}\\n{:0.3f}'.format(acc*100,precision*100,recall*100,f1_score*100).replace('.',',')  )"
   ]
  },
  {
   "cell_type": "code",
   "execution_count": 10,
   "metadata": {},
   "outputs": [
    {
     "name": "stdout",
     "output_type": "stream",
     "text": [
      "             precision    recall  f1-score   support\n",
      "\n",
      "        0.0       0.75      0.90      0.82        10\n",
      "        1.0       0.80      1.00      0.89         8\n",
      "        2.0       1.00      0.83      0.91         6\n",
      "        3.0       0.57      0.44      0.50         9\n",
      "        4.0       0.67      0.80      0.73        10\n",
      "        5.0       1.00      0.75      0.86         8\n",
      "        6.0       0.89      0.80      0.84        10\n",
      "\n",
      "avg / total       0.80      0.79      0.78        61\n",
      "\n"
     ]
    }
   ],
   "source": [
    "metric = metrics.classification_report(y, yhat)\n",
    "print(metric)"
   ]
  },
  {
   "cell_type": "code",
   "execution_count": 17,
   "metadata": {},
   "outputs": [
    {
     "name": "stdout",
     "output_type": "stream",
     "text": [
      "[[9 0 0 0 1 0 0]\n",
      " [0 8 0 0 0 0 0]\n",
      " [0 0 6 0 0 0 0]\n",
      " [4 0 0 5 0 0 0]\n",
      " [2 0 0 1 7 0 0]\n",
      " [0 0 0 1 1 5 1]\n",
      " [2 3 0 0 0 0 5]]\n"
     ]
    }
   ],
   "source": [
    "mc = metrics.confusion_matrix(y, yhat)\n",
    "print(mc)"
   ]
  },
  {
   "cell_type": "code",
   "execution_count": null,
   "metadata": {},
   "outputs": [],
   "source": []
  },
  {
   "cell_type": "code",
   "execution_count": 18,
   "metadata": {},
   "outputs": [
    {
     "name": "stdout",
     "output_type": "stream",
     "text": [
      "Normalized confusion matrix\n"
     ]
    },
    {
     "data": {
      "image/png": "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\n",
      "text/plain": [
       "<Figure size 576x576 with 1 Axes>"
      ]
     },
     "metadata": {},
     "output_type": "display_data"
    }
   ],
   "source": [
    "import itertools\n",
    "import matplotlib.pyplot as plt\n",
    "%matplotlib inline\n",
    "\n",
    "def plot_confusion_matrix(cm, classes,\n",
    "                          normalize=True,\n",
    "                          title='Confusion matrix',\n",
    "                          cmap=plt.cm.Blues):\n",
    "    \"\"\"\n",
    "    This function prints and plots the confusion matrix.\n",
    "    Normalization can be applied by setting `normalize=True`.\n",
    "    \"\"\"\n",
    "    if normalize:\n",
    "        cm = cm.astype('float') / cm.sum(axis=1)[:, np.newaxis]\n",
    "        print(\"Normalized confusion matrix\")\n",
    "    else:\n",
    "        print('Confusion matrix, without normalization')\n",
    "\n",
    "    #print(cm)\n",
    "\n",
    "    plt.imshow(cm, interpolation='nearest', cmap=cmap)\n",
    "    plt.title(title)\n",
    "    #plt.colorbar()\n",
    "    tick_marks = np.arange(len(classes))\n",
    "    plt.xticks(tick_marks, classes, rotation=45)\n",
    "    plt.yticks(tick_marks, classes)\n",
    "\n",
    "    fmt = '.2f' if normalize else 'd'\n",
    "    thresh = cm.max() / 2.\n",
    "    for i, j in itertools.product(range(cm.shape[0]), range(cm.shape[1])):\n",
    "        plt.text(j, i, format(cm[i, j], fmt),\n",
    "                 horizontalalignment=\"center\",\n",
    "                 color=\"white\" if cm[i, j] > thresh else \"black\")\n",
    "\n",
    "    plt.tight_layout()\n",
    "    plt.ylabel('True label')\n",
    "    plt.xlabel('Predicted label')\n",
    "\n",
    "\n",
    "plt.figure( figsize=(8,8))\n",
    "plot_confusion_matrix(mc, classes=data.data.classes, title=' ')\n",
    "plt.show()"
   ]
  },
  {
   "cell_type": "code",
   "execution_count": null,
   "metadata": {},
   "outputs": [],
   "source": []
  },
  {
   "cell_type": "code",
   "execution_count": null,
   "metadata": {},
   "outputs": [],
   "source": []
  },
  {
   "cell_type": "code",
   "execution_count": null,
   "metadata": {},
   "outputs": [],
   "source": []
  },
  {
   "cell_type": "code",
   "execution_count": null,
   "metadata": {},
   "outputs": [],
   "source": []
  },
  {
   "cell_type": "code",
   "execution_count": null,
   "metadata": {},
   "outputs": [],
   "source": []
  }
 ],
 "metadata": {
  "kernelspec": {
   "display_name": "Python 3",
   "language": "python",
   "name": "python3"
  },
  "language_info": {
   "codemirror_mode": {
    "name": "ipython",
    "version": 3
   },
   "file_extension": ".py",
   "mimetype": "text/x-python",
   "name": "python",
   "nbconvert_exporter": "python",
   "pygments_lexer": "ipython3",
   "version": "3.6.6"
  }
 },
 "nbformat": 4,
 "nbformat_minor": 2
}
