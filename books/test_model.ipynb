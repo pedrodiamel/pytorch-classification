{
 "cells": [
  {
   "cell_type": "code",
   "execution_count": null,
   "metadata": {},
   "outputs": [],
   "source": []
  },
  {
   "cell_type": "code",
   "execution_count": 1,
   "metadata": {},
   "outputs": [],
   "source": [
    "import os\n",
    "import sys\n",
    "import numpy as np\n",
    "import pandas as pd\n",
    "import random\n",
    "\n",
    "from argparse import ArgumentParser\n",
    "import datetime\n",
    "\n",
    "import torch\n",
    "from torch.utils.data import Dataset, DataLoader\n",
    "from torchvision import transforms, utils\n",
    "import torch.backends.cudnn as cudnn\n",
    "\n",
    "from pytvision.transforms import transforms as mtrans\n",
    "from pytvision import visualization as view\n",
    "\n",
    "sys.path.append('../')\n",
    "from torchlib.datasets.factory  import FactoryDataset \n",
    "from torchlib.datasets import Dataset \n",
    "from torchlib.neuralnet import NeuralNetClassifier\n",
    "from misc import get_transforms_det\n",
    "\n",
    "from sklearn import metrics"
   ]
  },
  {
   "cell_type": "code",
   "execution_count": null,
   "metadata": {},
   "outputs": [],
   "source": []
  },
  {
   "cell_type": "code",
   "execution_count": 20,
   "metadata": {},
   "outputs": [
    {
     "name": "stdout",
     "output_type": "stream",
     "text": [
      "/root/.datasets\n",
      "../out/netruns\n",
      "jaffe\n"
     ]
    }
   ],
   "source": [
    "pathname = os.path.expanduser( '~/.datasets' )\n",
    "projectnet='../out/netruns'\n",
    "name_dataset=FactoryDataset.jaffe\n",
    "no_cuda=False\n",
    "seed=1\n",
    "gpu=1\n",
    "batch_size=60\n",
    "workers=10\n",
    "num_input_channels=3\n",
    "\n",
    "print(pathname)\n",
    "print(projectnet)\n",
    "print(name_dataset)"
   ]
  },
  {
   "cell_type": "code",
   "execution_count": 3,
   "metadata": {},
   "outputs": [
    {
     "name": "stdout",
     "output_type": "stream",
     "text": [
      "exp_baseline_preactresnet18_cross_sgd_cifar100_aug_001\n",
      "exp_baseline_preactresnet18_cross_sgd_cifar10_aug_001\n",
      "exp_baseline_preactresnet18_cross_sgd_cifar10_aug_002\n",
      "exp_baseline_preactresnet18_cross_sgd_fashion_aug_001\n",
      "exp_baseline_preactresnet18_cross_sgd_ferp_allaug_002\n",
      "exp_baseline_preactresnet18_cross_sgd_ferp_aug_002\n",
      "exp_baseline_preactresnet18_cross_sgd_stl10_aug_001\n",
      "exp_baseline_preactresnet18_cross_sgd_svhn_aug_001\n",
      "exp_baseline_preactresnet34_cross_sgd_cifar100_aug_001\n",
      "exp_baseline_preactresnet34_cross_sgd_cifar10_aug_001\n"
     ]
    }
   ],
   "source": [
    "!ls ../out/netruns/"
   ]
  },
  {
   "cell_type": "code",
   "execution_count": 4,
   "metadata": {},
   "outputs": [
    {
     "name": "stdout",
     "output_type": "stream",
     "text": [
      "../out/netruns/exp_baseline_preactresnet18_cross_sgd_ferp_allaug_002\n",
      "../out/netruns/exp_baseline_preactresnet18_cross_sgd_ferp_allaug_002/models/model_best.pth.tar\n"
     ]
    }
   ],
   "source": [
    "name = 'exp_baseline_preactresnet18_cross_sgd_ferp_allaug_002'\n",
    "project = os.path.join(projectnet, name)\n",
    "model = 'model_best.pth.tar' #'chk001025.pth.tar', model_best\n",
    "pathmodels = os.path.join(project,'models',model)\n",
    "\n",
    "print(project)\n",
    "print(pathmodels)"
   ]
  },
  {
   "cell_type": "markdown",
   "metadata": {},
   "source": [
    "## Load model"
   ]
  },
  {
   "cell_type": "code",
   "execution_count": 5,
   "metadata": {},
   "outputs": [
    {
     "name": "stderr",
     "output_type": "stream",
     "text": [
      "Without the incoming socket you cannot receive events from the server or register event handlers to your Visdom client.\n"
     ]
    },
    {
     "name": "stdout",
     "output_type": "stream",
     "text": [
      "=> loading checkpoint '../out/netruns/exp_baseline_preactresnet18_cross_sgd_ferp_allaug_002/models/model_best.pth.tar'\n",
      "=> loaded checkpoint for preactresnet18 arch!\n"
     ]
    }
   ],
   "source": [
    "# neuralnet\n",
    "network = NeuralNetClassifier(\n",
    "    patchproject=project,\n",
    "    nameproject=name,\n",
    "    no_cuda=no_cuda,\n",
    "    seed=seed,\n",
    "    gpu=gpu\n",
    "    )\n",
    "\n",
    "cudnn.benchmark = True\n",
    "\n",
    "# load model\n",
    "if network.load( pathmodels ) is not True:\n",
    "    assert(False)"
   ]
  },
  {
   "cell_type": "code",
   "execution_count": null,
   "metadata": {},
   "outputs": [],
   "source": []
  },
  {
   "cell_type": "code",
   "execution_count": 25,
   "metadata": {},
   "outputs": [
    {
     "name": "stdout",
     "output_type": "stream",
     "text": [
      "Data loader \n",
      "4\n",
      "201\n"
     ]
    }
   ],
   "source": [
    "\n",
    "subset=FactoryDataset.training\n",
    "\n",
    "data = Dataset(\n",
    "    data=FactoryDataset.factory(\n",
    "        pathname=pathname, \n",
    "        name=name_dataset, \n",
    "        subset=subset, \n",
    "        download=True ),\n",
    "    num_channels=num_input_channels,\n",
    "    transform=get_transforms_det(network.size_input)\n",
    "    )\n",
    "\n",
    "dataloader = DataLoader(data, batch_size=batch_size, shuffle=False, num_workers=workers )\n",
    "\n",
    "print('Data loader ')\n",
    "print(len(dataloader))\n",
    "print(len(data))"
   ]
  },
  {
   "cell_type": "code",
   "execution_count": 26,
   "metadata": {},
   "outputs": [
    {
     "name": "stderr",
     "output_type": "stream",
     "text": [
      "100%|██████████| 4/4 [00:00<00:00,  4.95it/s]"
     ]
    },
    {
     "name": "stdout",
     "output_type": "stream",
     "text": [
      "dir: ../out/netruns/exp_baseline_preactresnet18_cross_sgd_ferp_allaug_002\n",
      "DONE!!!\n"
     ]
    },
    {
     "name": "stderr",
     "output_type": "stream",
     "text": [
      "\n"
     ]
    }
   ],
   "source": [
    "Yhat, Y = network.test( dataloader )\n",
    "df = pd.DataFrame( np.concatenate((Yhat, Y), axis=1) )\n",
    "df.to_csv( os.path.join(project , 'val_{}_{}_dp.csv'.format(name,name_dataset)), index=False, encoding='utf-8')       \n",
    "\n",
    "print('dir: {}'.format(project))\n",
    "print('DONE!!!')"
   ]
  },
  {
   "cell_type": "code",
   "execution_count": 27,
   "metadata": {},
   "outputs": [
    {
     "data": {
      "text/html": [
       "<div>\n",
       "<style scoped>\n",
       "    .dataframe tbody tr th:only-of-type {\n",
       "        vertical-align: middle;\n",
       "    }\n",
       "\n",
       "    .dataframe tbody tr th {\n",
       "        vertical-align: top;\n",
       "    }\n",
       "\n",
       "    .dataframe thead th {\n",
       "        text-align: right;\n",
       "    }\n",
       "</style>\n",
       "<table border=\"1\" class=\"dataframe\">\n",
       "  <thead>\n",
       "    <tr style=\"text-align: right;\">\n",
       "      <th></th>\n",
       "      <th>0</th>\n",
       "      <th>1</th>\n",
       "      <th>2</th>\n",
       "      <th>3</th>\n",
       "      <th>4</th>\n",
       "      <th>5</th>\n",
       "      <th>6</th>\n",
       "      <th>7</th>\n",
       "      <th>8</th>\n",
       "    </tr>\n",
       "  </thead>\n",
       "  <tbody>\n",
       "    <tr>\n",
       "      <th>0</th>\n",
       "      <td>0.768982</td>\n",
       "      <td>3.397970e-08</td>\n",
       "      <td>1.248818e-08</td>\n",
       "      <td>0.229884</td>\n",
       "      <td>3.942057e-04</td>\n",
       "      <td>7.332308e-05</td>\n",
       "      <td>2.960142e-05</td>\n",
       "      <td>6.371328e-04</td>\n",
       "      <td>4.0</td>\n",
       "    </tr>\n",
       "    <tr>\n",
       "      <th>1</th>\n",
       "      <td>0.998841</td>\n",
       "      <td>6.548833e-09</td>\n",
       "      <td>2.984125e-09</td>\n",
       "      <td>0.001147</td>\n",
       "      <td>1.723467e-06</td>\n",
       "      <td>7.154703e-07</td>\n",
       "      <td>3.846847e-07</td>\n",
       "      <td>9.134590e-06</td>\n",
       "      <td>4.0</td>\n",
       "    </tr>\n",
       "    <tr>\n",
       "      <th>2</th>\n",
       "      <td>0.000293</td>\n",
       "      <td>6.179817e-13</td>\n",
       "      <td>6.860750e-10</td>\n",
       "      <td>0.999707</td>\n",
       "      <td>4.289341e-12</td>\n",
       "      <td>3.397419e-10</td>\n",
       "      <td>2.656189e-09</td>\n",
       "      <td>1.735064e-09</td>\n",
       "      <td>5.0</td>\n",
       "    </tr>\n",
       "    <tr>\n",
       "      <th>3</th>\n",
       "      <td>0.000278</td>\n",
       "      <td>1.582566e-11</td>\n",
       "      <td>1.395382e-08</td>\n",
       "      <td>0.999722</td>\n",
       "      <td>9.570392e-09</td>\n",
       "      <td>1.510710e-07</td>\n",
       "      <td>2.773884e-08</td>\n",
       "      <td>3.094821e-08</td>\n",
       "      <td>5.0</td>\n",
       "    </tr>\n",
       "    <tr>\n",
       "      <th>4</th>\n",
       "      <td>0.005153</td>\n",
       "      <td>2.957628e-09</td>\n",
       "      <td>9.594661e-08</td>\n",
       "      <td>0.994685</td>\n",
       "      <td>8.970256e-05</td>\n",
       "      <td>6.633773e-05</td>\n",
       "      <td>2.842201e-06</td>\n",
       "      <td>3.221493e-06</td>\n",
       "      <td>5.0</td>\n",
       "    </tr>\n",
       "  </tbody>\n",
       "</table>\n",
       "</div>"
      ],
      "text/plain": [
       "          0             1             2         3             4             5  \\\n",
       "0  0.768982  3.397970e-08  1.248818e-08  0.229884  3.942057e-04  7.332308e-05   \n",
       "1  0.998841  6.548833e-09  2.984125e-09  0.001147  1.723467e-06  7.154703e-07   \n",
       "2  0.000293  6.179817e-13  6.860750e-10  0.999707  4.289341e-12  3.397419e-10   \n",
       "3  0.000278  1.582566e-11  1.395382e-08  0.999722  9.570392e-09  1.510710e-07   \n",
       "4  0.005153  2.957628e-09  9.594661e-08  0.994685  8.970256e-05  6.633773e-05   \n",
       "\n",
       "              6             7    8  \n",
       "0  2.960142e-05  6.371328e-04  4.0  \n",
       "1  3.846847e-07  9.134590e-06  4.0  \n",
       "2  2.656189e-09  1.735064e-09  5.0  \n",
       "3  2.773884e-08  3.094821e-08  5.0  \n",
       "4  2.842201e-06  3.221493e-06  5.0  "
      ]
     },
     "execution_count": 27,
     "metadata": {},
     "output_type": "execute_result"
    }
   ],
   "source": [
    "df = pd.read_csv( os.path.join(project , 'val_{}_{}_dp.csv'.format(name, name_dataset))  )\n",
    "df.head()"
   ]
  },
  {
   "cell_type": "code",
   "execution_count": 28,
   "metadata": {},
   "outputs": [
    {
     "name": "stdout",
     "output_type": "stream",
     "text": [
      "Accuracy : 0.383085\n",
      "Precision : 0.456811\n",
      "Recall : 0.367730\n",
      "F1 score : 0.407459\n",
      "\n"
     ]
    }
   ],
   "source": [
    "result = df.as_matrix()\n",
    "yhat = np.argmax( result[:,:-1], axis=1 )\n",
    "y = result[:,-1]\n",
    "\n",
    "acc = metrics.accuracy_score(y, yhat)\n",
    "precision = metrics.precision_score(y, yhat, average='macro')\n",
    "recall = metrics.recall_score(y, yhat, average='macro')\n",
    "f1_score = 2*precision*recall/(precision+recall)\n",
    "\n",
    "print('Accuracy : %f' % acc)\n",
    "print('Precision : %f' % precision)\n",
    "print('Recall : %f' % recall)\n",
    "print('F1 score : %f' % f1_score)\n",
    "print(\"\")"
   ]
  },
  {
   "cell_type": "code",
   "execution_count": 29,
   "metadata": {},
   "outputs": [
    {
     "name": "stdout",
     "output_type": "stream",
     "text": [
      "             precision    recall  f1-score   support\n",
      "\n",
      "        0.0       0.25      1.00      0.40        30\n",
      "        1.0       0.95      0.65      0.77        31\n",
      "        2.0       1.00      0.35      0.51        26\n",
      "        3.0       0.33      0.52      0.40        31\n",
      "        4.0       0.00      0.00      0.00        25\n",
      "        5.0       0.00      0.00      0.00        28\n",
      "        6.0       0.67      0.07      0.12        30\n",
      "\n",
      "avg / total       0.46      0.38      0.33       201\n",
      "\n"
     ]
    }
   ],
   "source": [
    "metric = metrics.classification_report(y, yhat)\n",
    "print(metric)"
   ]
  },
  {
   "cell_type": "code",
   "execution_count": 31,
   "metadata": {},
   "outputs": [
    {
     "name": "stdout",
     "output_type": "stream",
     "text": [
      "[[30  0  0  0  0  0  0]\n",
      " [11 20  0  0  0  0  0]\n",
      " [13  1  9  2  0  0  1]\n",
      " [15  0  0 16  0  0  0]\n",
      " [24  0  0  1  0  0  0]\n",
      " [11  0  0 17  0  0  0]\n",
      " [15  0  0 13  0  0  2]]\n"
     ]
    }
   ],
   "source": [
    "mc = metrics.confusion_matrix(y, yhat)\n",
    "print(mc)"
   ]
  },
  {
   "cell_type": "code",
   "execution_count": null,
   "metadata": {},
   "outputs": [],
   "source": []
  },
  {
   "cell_type": "code",
   "execution_count": 32,
   "metadata": {},
   "outputs": [
    {
     "name": "stdout",
     "output_type": "stream",
     "text": [
      "Normalized confusion matrix\n"
     ]
    },
    {
     "data": {
      "image/png": "[encoded data removed]",
      "text/plain": [
       "<matplotlib.figure.Figure at 0x7fff621950f0>"
      ]
     },
     "metadata": {},
     "output_type": "display_data"
    }
   ],
   "source": [
    "import itertools\n",
    "import matplotlib.pyplot as plt\n",
    "%matplotlib inline\n",
    "\n",
    "def plot_confusion_matrix(cm, classes,\n",
    "                          normalize=True,\n",
    "                          title='Confusion matrix',\n",
    "                          cmap=plt.cm.Blues):\n",
    "    \"\"\"\n",
    "    This function prints and plots the confusion matrix.\n",
    "    Normalization can be applied by setting `normalize=True`.\n",
    "    \"\"\"\n",
    "    if normalize:\n",
    "        cm = cm.astype('float') / cm.sum(axis=1)[:, np.newaxis]\n",
    "        print(\"Normalized confusion matrix\")\n",
    "    else:\n",
    "        print('Confusion matrix, without normalization')\n",
    "\n",
    "    #print(cm)\n",
    "\n",
    "    plt.imshow(cm, interpolation='nearest', cmap=cmap)\n",
    "    plt.title(title)\n",
    "    #plt.colorbar()\n",
    "    tick_marks = np.arange(len(classes))\n",
    "    plt.xticks(tick_marks, classes, rotation=45)\n",
    "    plt.yticks(tick_marks, classes)\n",
    "\n",
    "    fmt = '.2f' if normalize else 'd'\n",
    "    thresh = cm.max() / 2.\n",
    "    for i, j in itertools.product(range(cm.shape[0]), range(cm.shape[1])):\n",
    "        plt.text(j, i, format(cm[i, j], fmt),\n",
    "                 horizontalalignment=\"center\",\n",
    "                 color=\"white\" if cm[i, j] > thresh else \"black\")\n",
    "\n",
    "    plt.tight_layout()\n",
    "    plt.ylabel('True label')\n",
    "    plt.xlabel('Predicted label')\n",
    "\n",
    "\n",
    "plt.figure( figsize=(8,8))\n",
    "plot_confusion_matrix(mc, classes=data.data.classes, title=' ')\n",
    "plt.show()"
   ]
  },
  {
   "cell_type": "code",
   "execution_count": null,
   "metadata": {},
   "outputs": [],
   "source": []
  },
  {
   "cell_type": "code",
   "execution_count": null,
   "metadata": {},
   "outputs": [],
   "source": []
  },
  {
   "cell_type": "code",
   "execution_count": null,
   "metadata": {},
   "outputs": [],
   "source": []
  },
  {
   "cell_type": "code",
   "execution_count": null,
   "metadata": {},
   "outputs": [],
   "source": []
  },
  {
   "cell_type": "code",
   "execution_count": null,
   "metadata": {},
   "outputs": [],
   "source": []
  }
 ],
 "metadata": {
  "kernelspec": {
   "display_name": "Python 3",
   "language": "python",
   "name": "python3"
  },
  "language_info": {
   "codemirror_mode": {
    "name": "ipython",
    "version": 3
   },
   "file_extension": ".py",
   "mimetype": "text/x-python",
   "name": "python",
   "nbconvert_exporter": "python",
   "pygments_lexer": "ipython3",
   "version": "3.6.6"
  }
 },
 "nbformat": 4,
 "nbformat_minor": 2
}
