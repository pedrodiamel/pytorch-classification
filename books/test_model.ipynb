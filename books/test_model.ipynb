{
 "cells": [
  {
   "cell_type": "code",
   "execution_count": null,
   "metadata": {},
   "outputs": [],
   "source": []
  },
  {
   "cell_type": "code",
   "execution_count": 1,
   "metadata": {},
   "outputs": [
    {
     "name": "stderr",
     "output_type": "stream",
     "text": [
      "/home/viisar/tir/projeto/programs/anaconda3/lib/python3.6/site-packages/dask/config.py:168: YAMLLoadWarning: calling yaml.load() without Loader=... is deprecated, as the default Loader is unsafe. Please read https://msg.pyyaml.org/load for full details.\n",
      "  data = yaml.load(f.read()) or {}\n"
     ]
    }
   ],
   "source": [
    "import os\n",
    "import sys\n",
    "import numpy as np\n",
    "import pandas as pd\n",
    "import random\n",
    "\n",
    "from argparse import ArgumentParser\n",
    "import datetime\n",
    "\n",
    "import torch\n",
    "from torch.utils.data import Dataset, DataLoader\n",
    "from torchvision import transforms, utils\n",
    "import torch.backends.cudnn as cudnn\n",
    "\n",
    "\n",
    "from pytvision.datasets.factory  import FactoryDataset \n",
    "from pytvision.datasets.datasets import Dataset \n",
    "from pytvision.datasets.fersynthetic  import SyntheticFaceDataset\n",
    "from pytvision.transforms import transforms as mtrans\n",
    "from pytvision import visualization as view\n",
    "\n",
    "sys.path.append('../')\n",
    "# from torchlib.datasets.factory  import FactoryDataset \n",
    "# from torchlib.datasets.datasets import Dataset \n",
    "# from torchlib.datasets.fersynthetic  import SyntheticFaceDataset\n",
    "from torchlib.neuralnet import NeuralNetClassifier\n",
    "from misc import get_transforms_det\n",
    "\n",
    "from sklearn import metrics"
   ]
  },
  {
   "cell_type": "code",
   "execution_count": null,
   "metadata": {},
   "outputs": [],
   "source": []
  },
  {
   "cell_type": "code",
   "execution_count": 2,
   "metadata": {},
   "outputs": [
    {
     "name": "stdout",
     "output_type": "stream",
     "text": [
      "/root/.datasets\n",
      "../out/baselinenetruns\n"
     ]
    }
   ],
   "source": [
    "pathname = os.path.expanduser( '~/.datasets' )\n",
    "projectnet='../out/baselinenetruns'\n",
    "no_cuda=False\n",
    "seed=1\n",
    "gpu=1\n",
    "batch_size=10\n",
    "workers=0\n",
    "num_input_channels=3\n",
    "\n",
    "print(pathname)\n",
    "print(projectnet)\n"
   ]
  },
  {
   "cell_type": "code",
   "execution_count": 3,
   "metadata": {},
   "outputs": [
    {
     "name": "stdout",
     "output_type": "stream",
     "text": [
      "baseline_alexnet_cross_adam_ferp_weights_000\r\n",
      "baseline_cvgg13_cross_adam_ferp_weights_000\r\n",
      "baseline_dexpression_cross_adam_ferp_weights_000\r\n",
      "baseline_fmp_cross_adam_ferp_weights_000\r\n",
      "baseline_preactresnet18_cross_adam_ferp_weights_000\r\n",
      "baseline_resnet18_cross_adam_ferp_weights_000\r\n"
     ]
    }
   ],
   "source": [
    "!ls ../out/baselinenetruns/"
   ]
  },
  {
   "cell_type": "code",
   "execution_count": 4,
   "metadata": {},
   "outputs": [
    {
     "name": "stdout",
     "output_type": "stream",
     "text": [
      "../out/baselinenetruns/baseline_dexpression_cross_adam_ferp_weights_000\n",
      "../out/baselinenetruns/baseline_dexpression_cross_adam_ferp_weights_000/models/model_best.pth.tar\n"
     ]
    }
   ],
   "source": [
    "name = 'baseline_dexpression_cross_adam_ferp_weights_000'\n",
    "project = os.path.join(projectnet, name)\n",
    "model = 'model_best.pth.tar' #'chk000025.pth.tar', model_best\n",
    "pathmodels = os.path.join(project,'models',model)\n",
    "\n",
    "print(project)\n",
    "print(pathmodels)"
   ]
  },
  {
   "cell_type": "markdown",
   "metadata": {},
   "source": [
    "## Load model"
   ]
  },
  {
   "cell_type": "code",
   "execution_count": 5,
   "metadata": {},
   "outputs": [
    {
     "name": "stdout",
     "output_type": "stream",
     "text": [
      "=> loading checkpoint '../out/baselinenetruns/baseline_dexpression_cross_adam_ferp_weights_000/models/model_best.pth.tar'\n",
      "=> loaded checkpoint for dexpression arch!\n"
     ]
    }
   ],
   "source": [
    "# neuralnet\n",
    "network = NeuralNetClassifier(\n",
    "    patchproject=project,\n",
    "    nameproject=name,\n",
    "    no_cuda=no_cuda,\n",
    "    seed=seed,\n",
    "    gpu=gpu\n",
    "    )\n",
    "\n",
    "cudnn.benchmark = True\n",
    "\n",
    "# load model\n",
    "if network.load( pathmodels ) is not True:\n",
    "    assert(False)"
   ]
  },
  {
   "cell_type": "code",
   "execution_count": null,
   "metadata": {},
   "outputs": [],
   "source": []
  },
  {
   "cell_type": "code",
   "execution_count": 43,
   "metadata": {},
   "outputs": [
    {
     "name": "stdout",
     "output_type": "stream",
     "text": [
      "Data loader \n",
      "58\n",
      "580\n"
     ]
    }
   ],
   "source": [
    "name_dataset=FactoryDataset.affect\n",
    "subset=FactoryDataset.validation\n",
    "\n",
    "nactores=10\n",
    "kfold=0\n",
    "idenselect = [] #np.arange(nactores) + kfold*nactores\n",
    "breal=True\n",
    "\n",
    "\n",
    "data = Dataset(\n",
    "    data=FactoryDataset.factory(\n",
    "        pathname=pathname, \n",
    "        name=name_dataset, \n",
    "        subset=subset, \n",
    "        #idenselect=idenselect,\n",
    "        download=True ),\n",
    "    num_channels=num_input_channels,\n",
    "    transform=get_transforms_det(network.size_input)\n",
    "    )\n",
    "\n",
    "# data = SyntheticFaceDataset(\n",
    "#     data=FactoryDataset.factory(\n",
    "#         pathname=pathname, \n",
    "#         name=name_dataset, \n",
    "#         subset=subset, \n",
    "#         #idenselect=idenselect,\n",
    "#         download=True \n",
    "#         ),\n",
    "#     pathnameback='~/.datasets/coco', \n",
    "#     generate='image_and_label',\n",
    "#     ext='jpg',\n",
    "#     count=2000,\n",
    "#     num_channels=network.num_input_channels,\n",
    "#     iluminate=True, angle=45, translation=0.3, warp=0.2, factor=0.2,\n",
    "#     #iluminate=True, angle=45, translation=0.1, warp=0.0, factor=0.0,\n",
    "#     transform_image=get_transforms_det( network.size_input )\n",
    "#     )\n",
    "\n",
    "\n",
    "dataloader = DataLoader(data, batch_size=batch_size, shuffle=False, num_workers=workers )\n",
    "\n",
    "print('Data loader ')\n",
    "print(len(dataloader))\n",
    "print(len(data))"
   ]
  },
  {
   "cell_type": "code",
   "execution_count": 44,
   "metadata": {},
   "outputs": [
    {
     "name": "stderr",
     "output_type": "stream",
     "text": [
      "100%|██████████| 58/58 [00:00<00:00, 83.59it/s]"
     ]
    },
    {
     "name": "stdout",
     "output_type": "stream",
     "text": [
      "dir: ../out/baselinenetruns/baseline_cvgg13_cross_adam_ferp_weights_000\n",
      "DONE!!!\n"
     ]
    },
    {
     "name": "stderr",
     "output_type": "stream",
     "text": [
      "\n"
     ]
    }
   ],
   "source": [
    "Yhat, Y = network.test( dataloader )\n",
    "df = pd.DataFrame( np.concatenate((Yhat, Y), axis=1) )\n",
    "df.to_csv( os.path.join(project , '{}_{}_{}_dp.csv'.format(subset,name,name_dataset)), index=False, encoding='utf-8')       \n",
    "\n",
    "print('dir: {}'.format(project))\n",
    "print('DONE!!!')"
   ]
  },
  {
   "cell_type": "code",
   "execution_count": 45,
   "metadata": {},
   "outputs": [
    {
     "data": {
      "text/html": [
       "<div>\n",
       "<style scoped>\n",
       "    .dataframe tbody tr th:only-of-type {\n",
       "        vertical-align: middle;\n",
       "    }\n",
       "\n",
       "    .dataframe tbody tr th {\n",
       "        vertical-align: top;\n",
       "    }\n",
       "\n",
       "    .dataframe thead th {\n",
       "        text-align: right;\n",
       "    }\n",
       "</style>\n",
       "<table border=\"1\" class=\"dataframe\">\n",
       "  <thead>\n",
       "    <tr style=\"text-align: right;\">\n",
       "      <th></th>\n",
       "      <th>0</th>\n",
       "      <th>1</th>\n",
       "      <th>2</th>\n",
       "      <th>3</th>\n",
       "      <th>4</th>\n",
       "      <th>5</th>\n",
       "      <th>6</th>\n",
       "      <th>7</th>\n",
       "      <th>8</th>\n",
       "    </tr>\n",
       "  </thead>\n",
       "  <tbody>\n",
       "    <tr>\n",
       "      <th>0</th>\n",
       "      <td>2.976395e-04</td>\n",
       "      <td>9.991634e-01</td>\n",
       "      <td>4.521675e-06</td>\n",
       "      <td>9.039359e-05</td>\n",
       "      <td>4.439298e-04</td>\n",
       "      <td>1.236433e-07</td>\n",
       "      <td>4.374791e-08</td>\n",
       "      <td>1.604773e-08</td>\n",
       "      <td>5.0</td>\n",
       "    </tr>\n",
       "    <tr>\n",
       "      <th>1</th>\n",
       "      <td>4.987014e-09</td>\n",
       "      <td>1.000000e+00</td>\n",
       "      <td>4.921211e-09</td>\n",
       "      <td>1.262770e-14</td>\n",
       "      <td>1.083662e-14</td>\n",
       "      <td>2.131488e-23</td>\n",
       "      <td>2.307422e-17</td>\n",
       "      <td>2.137197e-22</td>\n",
       "      <td>1.0</td>\n",
       "    </tr>\n",
       "    <tr>\n",
       "      <th>2</th>\n",
       "      <td>9.999895e-01</td>\n",
       "      <td>1.471812e-08</td>\n",
       "      <td>1.193038e-06</td>\n",
       "      <td>9.292635e-06</td>\n",
       "      <td>2.759569e-08</td>\n",
       "      <td>1.661880e-17</td>\n",
       "      <td>2.818471e-15</td>\n",
       "      <td>4.663679e-13</td>\n",
       "      <td>0.0</td>\n",
       "    </tr>\n",
       "    <tr>\n",
       "      <th>3</th>\n",
       "      <td>9.656357e-01</td>\n",
       "      <td>4.566129e-08</td>\n",
       "      <td>8.904398e-07</td>\n",
       "      <td>3.427742e-02</td>\n",
       "      <td>8.585987e-05</td>\n",
       "      <td>1.223359e-10</td>\n",
       "      <td>1.911448e-10</td>\n",
       "      <td>2.048259e-11</td>\n",
       "      <td>3.0</td>\n",
       "    </tr>\n",
       "    <tr>\n",
       "      <th>4</th>\n",
       "      <td>3.641985e-07</td>\n",
       "      <td>6.459234e-11</td>\n",
       "      <td>9.999996e-01</td>\n",
       "      <td>1.186124e-09</td>\n",
       "      <td>2.486867e-11</td>\n",
       "      <td>5.986171e-21</td>\n",
       "      <td>2.083649e-08</td>\n",
       "      <td>1.070712e-17</td>\n",
       "      <td>2.0</td>\n",
       "    </tr>\n",
       "  </tbody>\n",
       "</table>\n",
       "</div>"
      ],
      "text/plain": [
       "              0             1             2             3             4  \\\n",
       "0  2.976395e-04  9.991634e-01  4.521675e-06  9.039359e-05  4.439298e-04   \n",
       "1  4.987014e-09  1.000000e+00  4.921211e-09  1.262770e-14  1.083662e-14   \n",
       "2  9.999895e-01  1.471812e-08  1.193038e-06  9.292635e-06  2.759569e-08   \n",
       "3  9.656357e-01  4.566129e-08  8.904398e-07  3.427742e-02  8.585987e-05   \n",
       "4  3.641985e-07  6.459234e-11  9.999996e-01  1.186124e-09  2.486867e-11   \n",
       "\n",
       "              5             6             7    8  \n",
       "0  1.236433e-07  4.374791e-08  1.604773e-08  5.0  \n",
       "1  2.131488e-23  2.307422e-17  2.137197e-22  1.0  \n",
       "2  1.661880e-17  2.818471e-15  4.663679e-13  0.0  \n",
       "3  1.223359e-10  1.911448e-10  2.048259e-11  3.0  \n",
       "4  5.986171e-21  2.083649e-08  1.070712e-17  2.0  "
      ]
     },
     "execution_count": 45,
     "metadata": {},
     "output_type": "execute_result"
    }
   ],
   "source": [
    "df = pd.read_csv( os.path.join(project , '{}_{}_{}_dp.csv'.format(subset, name, name_dataset))  )\n",
    "df.head()"
   ]
  },
  {
   "cell_type": "code",
   "execution_count": 46,
   "metadata": {
    "scrolled": true
   },
   "outputs": [
    {
     "name": "stdout",
     "output_type": "stream",
     "text": [
      "|Acc\t|Prec\t|Rec\t|F1\t|\n",
      "|0,421\t|0,512\t|0,384\t|0,439\t|\n",
      "\n",
      "42,069\n",
      "51,238\n",
      "38,412\n",
      "43,908\n"
     ]
    }
   ],
   "source": [
    "result = df.as_matrix()\n",
    "yhat = np.argmax( result[:,:-1], axis=1 )\n",
    "y = result[:,-1]\n",
    "\n",
    "acc = metrics.accuracy_score(y, yhat)\n",
    "precision = metrics.precision_score(y, yhat, average='macro')\n",
    "recall = metrics.recall_score(y, yhat, average='macro')\n",
    "f1_score = 2*precision*recall/(precision+recall)\n",
    "\n",
    "# print('Accuracy : %f' % acc)\n",
    "# print('Precision : %f' % precision)\n",
    "# print('Recall : %f' % recall)\n",
    "# print('F1 score : %f' % f1_score)\n",
    "# print(\"\")\n",
    "print('|Acc\\t|Prec\\t|Rec\\t|F1\\t|')\n",
    "print( '|{:0.3f}\\t|{:0.3f}\\t|{:0.3f}\\t|{:0.3f}\\t|'.format(acc,precision,recall,f1_score).replace('.',',')  )\n",
    "\n",
    "print()\n",
    "print( '{:0.3f}\\n{:0.3f}\\n{:0.3f}\\n{:0.3f}'.format(acc*100,precision*100,recall*100,f1_score*100).replace('.',',')  )"
   ]
  },
  {
   "cell_type": "code",
   "execution_count": 47,
   "metadata": {},
   "outputs": [
    {
     "name": "stdout",
     "output_type": "stream",
     "text": [
      "              precision    recall  f1-score   support\n",
      "\n",
      "         0.0       0.30      1.00      0.46        90\n",
      "         1.0       0.63      1.00      0.77        89\n",
      "         2.0       0.84      0.76      0.80        49\n",
      "         3.0       0.37      0.13      0.19        85\n",
      "         4.0       0.16      0.09      0.12        89\n",
      "         5.0       0.80      0.09      0.16        92\n",
      "         6.0       1.00      0.01      0.02        86\n",
      "         7.0       0.00      0.00      0.00         0\n",
      "\n",
      "   micro avg       0.42      0.42      0.42       580\n",
      "   macro avg       0.51      0.38      0.31       580\n",
      "weighted avg       0.57      0.42      0.33       580\n",
      "\n"
     ]
    }
   ],
   "source": [
    "metric = metrics.classification_report(y, yhat)\n",
    "print(metric)"
   ]
  },
  {
   "cell_type": "code",
   "execution_count": 11,
   "metadata": {},
   "outputs": [
    {
     "name": "stdout",
     "output_type": "stream",
     "text": [
      "[[935  26  14  76  29   1   0   2]\n",
      " [ 37 812  18  17   8   0   0   0]\n",
      " [ 20   7 356   3   3   0   5   0]\n",
      " [ 86  19   2 256  13   1   3   2]\n",
      " [ 15   6   5   6 234   2   1   0]\n",
      " [  1   0   2   0   5   8   0   0]\n",
      " [  7   2  23  11   2   0  41   0]\n",
      " [  3   2   1   2   4   0   0   3]]\n"
     ]
    }
   ],
   "source": [
    "mc = metrics.confusion_matrix(y, yhat)\n",
    "print(mc)"
   ]
  },
  {
   "cell_type": "code",
   "execution_count": null,
   "metadata": {},
   "outputs": [],
   "source": []
  },
  {
   "cell_type": "code",
   "execution_count": 12,
   "metadata": {},
   "outputs": [
    {
     "name": "stdout",
     "output_type": "stream",
     "text": [
      "Normalized confusion matrix\n"
     ]
    },
    {
     "data": {
      "image/png": "[encoded data removed]",
      "text/plain": [
       "<Figure size 576x576 with 1 Axes>"
      ]
     },
     "metadata": {
      "needs_background": "light"
     },
     "output_type": "display_data"
    }
   ],
   "source": [
    "import itertools\n",
    "import matplotlib.pyplot as plt\n",
    "%matplotlib inline\n",
    "\n",
    "def plot_confusion_matrix(cm, classes,\n",
    "                          normalize=True,\n",
    "                          title='Confusion matrix',\n",
    "                          cmap=plt.cm.Blues):\n",
    "    \"\"\"\n",
    "    This function prints and plots the confusion matrix.\n",
    "    Normalization can be applied by setting `normalize=True`.\n",
    "    \"\"\"\n",
    "    if normalize:\n",
    "        cm = cm.astype('float') / cm.sum(axis=1)[:, np.newaxis]\n",
    "        print(\"Normalized confusion matrix\")\n",
    "    else:\n",
    "        print('Confusion matrix, without normalization')\n",
    "\n",
    "    #print(cm)\n",
    "\n",
    "    plt.imshow(cm, interpolation='nearest', cmap=cmap)\n",
    "    plt.title(title)\n",
    "    #plt.colorbar()\n",
    "    tick_marks = np.arange(len(classes))\n",
    "    plt.xticks(tick_marks, classes, rotation=45)\n",
    "    plt.yticks(tick_marks, classes)\n",
    "\n",
    "    fmt = '.2f' if normalize else 'd'\n",
    "    thresh = cm.max() / 2.\n",
    "    for i, j in itertools.product(range(cm.shape[0]), range(cm.shape[1])):\n",
    "        plt.text(j, i, format(cm[i, j], fmt),\n",
    "                 horizontalalignment=\"center\",\n",
    "                 color=\"white\" if cm[i, j] > thresh else \"black\")\n",
    "\n",
    "    plt.tight_layout()\n",
    "    plt.ylabel('True label')\n",
    "    plt.xlabel('Predicted label')\n",
    "\n",
    "\n",
    "plt.figure( figsize=(8,8))\n",
    "plot_confusion_matrix(mc, classes=data.data.classes, title=' ')\n",
    "plt.show()"
   ]
  },
  {
   "cell_type": "code",
   "execution_count": null,
   "metadata": {},
   "outputs": [],
   "source": []
  },
  {
   "cell_type": "code",
   "execution_count": null,
   "metadata": {},
   "outputs": [],
   "source": []
  },
  {
   "cell_type": "code",
   "execution_count": null,
   "metadata": {},
   "outputs": [],
   "source": []
  },
  {
   "cell_type": "code",
   "execution_count": null,
   "metadata": {},
   "outputs": [],
   "source": []
  },
  {
   "cell_type": "code",
   "execution_count": null,
   "metadata": {},
   "outputs": [],
   "source": []
  }
 ],
 "metadata": {
  "kernelspec": {
   "display_name": "Python 3",
   "language": "python",
   "name": "python3"
  },
  "language_info": {
   "codemirror_mode": {
    "name": "ipython",
    "version": 3
   },
   "file_extension": ".py",
   "mimetype": "text/x-python",
   "name": "python",
   "nbconvert_exporter": "python",
   "pygments_lexer": "ipython3",
   "version": "3.6.8"
  }
 },
 "nbformat": 4,
 "nbformat_minor": 2
}
